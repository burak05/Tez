{
 "cells": [
  {
   "cell_type": "code",
   "execution_count": 1,
   "metadata": {},
   "outputs": [],
   "source": [
    "sentences = [\n",
    "    \"Due to internal crystal structure of the molecules.\",\n",
    "    \"nuclears theory  3D structure cube added or removed atoms\",\n",
    "    \"Because of count of elements. Mostly about carbon dioxide.\",\n",
    "    \"Allotrops such as diamond and graphit they have the same chemical composition but they have a different type of crystal structures.\",\n",
    "    \"this name is izonom or isonome this caused from difference connection type of atoms and if is it dipol.\",\n",
    "    \"because of elements energy and pyhsical features has different reaction for every composition.\",\n",
    "    \"for example water  and ice. both materials are same chemical composition =H2O but physical features are compelety different.and there is bağ .and  this determine  ice or water but i couldnt remember.the diffrence is heat.\",\n",
    "    \"Weather and temparature. Because fruit flies' genetics are easily effected affected by temparature and weather. \",\n",
    "    \"Chemical Structure.\",\n",
    "    \"We call that allotropism. We may say diamond and grafit as an example.\",\n",
    "    \"They are different physical features because same chemical's connection build can be different each other.\",\n",
    "    \"We call it isomerism. In isomerism molecules that have the same numbers of the same kinds of atoms but differ in chemical and physical properties.\",\n",
    "    \"Same chemical composition has different physical features because they have different crystal structure.\",\n",
    "    \"isotopes, becuase they have same atomic number but has different electron numbers.\",\n",
    "    \"Change of genetics. Function. dominant genetics and recessive genetics. blend of genetics.modificasion\",\n",
    "    \"They called Allotropes. Allotropes are different crystal structures of the same element. Lavoiser showed that, he showed using diamonds and graphite. Burning diamonds and graphite produced the sam gas (CO2) (This was the first example of allotropism)\",\n",
    "    \"For example graphit and diomond have pure Carbon(6) but they have different physical compound becasue in this case Carbon(6) can make 4 bond with other Carbon(6) atoms and it changes the physical features . So we can say that in compound , shape of bounding is matters.\",\n",
    "    \"differences in their struct differences in their chemical connection\",\n",
    "    \"because when atoms combined with each other their  composition is different for example if \"\"h=h and h-h\"\" their physical features will be different \",\n",
    "    \"Because the atomic weights and molecular weights of the compounds may be different. The bond types and bond numbers between atoms or molecules may be different.\",\n",
    "    \"It might be from temparature. Or it might change by how much material we have. And the ratio between them.\",\n",
    "    \"allotrophism. they have different structures. But they include same elements.\",\n",
    "    \"Allotropes. They have same chemical composition but different physical features.\",\n",
    "    \"It depends on bounds. Bounds depend on locations of elements and we call it allotropism.\",\n",
    "    \"Because they have different allotrops which is changes the physical features. For example coil and diamond.\",\n",
    "    \"Difference in activation energy in a chemical composition can change the compound in the result. For example: we can burn carbon to gain CO (Carbon monoxide) or to gain CO2 (Carbon dioxide) if we give to the reaction different amount of activation energy we can gain one of them.\",\n",
    "    \"When the atom joined, then it lose own properties. So  its characteristic property change. Actually it looks same physcial property but chemical property is different.\",\n",
    "    \"Because atoms are in different places and they have different bonds.\",\n",
    "    \"Allotrops.\",\n",
    "    \"Atoms of the same element are alike( I mean they are also different but has something in common ), but atoms of each element different one from the other in size and weight.\",\n",
    "    \" \",\n",
    "    \"When the elements joined,the atoms lose their charachteristic proporties.\",\n",
    "    \"Molecular bonds are covalent and ionic lead to different pyhsical properties. Different weight , structure and can oxcid.(I mean oksitlenebilme in Turkish). \",\n",
    "    \"The way that atoms are bonded are different. For example diamond and graphite has the same chemical composition but they have different properities. They are different structures of the same element and it is called allotropy.\",\n",
    "    \"Allotropism. Difference in diziliş. Difference in molecular shape of the matter. Like coal and diamond. Those two are only carbons. But their molecular shapes are different.\",\n",
    "    \"Allatropism.Its a different crystal structure of an element.An example coal(grafit) and diamond.They are both made by carbon atoms but their crystal structure is different.So their physical features is different. The heat and pressure on coal turning this coal into diamond, and it takes so much time.\",\n",
    "    \" \",\n",
    "    \"Because elements should behave of differences.And their weight are should be different.The radioactive is change their characteristic.Every elements feature are difference from others.\",\n",
    "    \"Shape, molecular built, freezing point\",\n",
    "    \"Like grafit and diamond. They made from carbon but have different physical apperences and when you burn them same gases out come. The reason is chemical bond differences . \",\n",
    "    \"Because they are in different area.(high,P,d)\",\n",
    "    \"allotrophism (allotropism). Anthony lavoisier found and explain it. He burned diamound and carbon and he see same element carbon dioxid.Carbon and diamound released same gas.\",\n",
    "    \"They are called allotropes. Their features change due to differences in their chemical structures.\",\n",
    "    \"Chemical slecture and extends.\",\n",
    "    \"They called allotrops. Their physical features was different because they can occure in different orans ( farklı oranlarda birleşebiliyorlar.) . (kimyasal bağları ve çekimleri yüzünden farklılar.)\",\n",
    "    \"Distance between cells are different.\",\n",
    "    \"If same chemical composition been in different place , these are going to behavior different. It is due to temperature , high from sea distance . I\",\n",
    "    \"because of allotrope of elements\",\n",
    "    \"Because elements can be make ionik or covalent band. If there are metal and nonmetal, they can be ionik band. If there are two nonmetal, they can be covalent  band. They could be izotop each other. Izotop is, in the same compositions proton counts are same but mass numbers are different.\",\n",
    "    \"While working with diamond and graphite Lavoiser noticed that when burned them they released same type gases.(allotropism)Then lieb and Wöhler were about Two different compounds with same percentages of elements.this implies compounds have different arrangements for have different structurals. Because of the stereochemistry.İn a nutshell it is like this they have diiferent physical features because they different arrangement of atoms their 3D structure is different.  \",\n",
    "    \"Allotrop. they have the same atoms but  structure of atoms, their bonds is different each other.\",\n",
    "    \"The element particuleses got bounds with different ways.\",\n",
    "    \"This differences in the strecture make this. If the same chemical composition but different strecture its become different physical features. \",\n",
    "    \"diiference in chemical connecting type. it names is allotrop if there is chemicial composition but physical features of compounds are due to different it means they are allotrops.\",\n",
    "    \"Difference is structure of atoms and arrengement of atoms. And also smell,taste can be different.\",\n",
    "    \"Chemical composition and physical features are not connected each other.They just represent  each other.\",\n",
    "    \"I think it says allotrop beacuse there arre some carbon but became different mate  it's about their connecting differences for example carbon has 4 connector sometimes it has 4 connects sometimes 2 times double connects so it makes mate different from each other. if it's not about allotrop. Maybe it is about during connecting time's air pressure or temparture differences beacuse they are effecting.\",\n",
    "    \"Cells of plants and animals are almost the same, but physically very different from each other.\",\n",
    "    \" alllogritms  is  same  chemical composittion but  different compounds because Carbon element is different order so    example diamong and grafiti\",\n",
    "    \"Same chemical composition but different physical features of compounds are due to differences in isomerism. Its called Isomerism. Isomerism, the molecules that have same numbers of the same kinds of atoms but difference in chemical and physical properties. Energy are also is a factor in isomerism.\",\n",
    "    \"It is called something like allotropes. It is due to differences in molecular structures.\",\n",
    "    \"Some of chemical composition are similar but there are difference among their. When the elements are joined, the atoms lose their individual properties and have different properties from the elements they are composed of. A chemical formula is used a quick way to show the composition of compounds. Letters, numbers, and symbols are used to represent elements and the number of elements in each compound.\",\n",
    "    \"Because of allotropism . We see that their chemical formulas are the same but their featuers are completly different.\",\n",
    "    \"Same chemical composition but different physical features of compounds are due tou differences in period number. Elements which in the same group acts in a similar way as chemical composition. Because the number of atoms they have in the last orbital is same they have same chemical composition. But the total quantity of atoms they have is different so their atomic number is different and they have different physical features of compounds.\",\n",
    "    \"Same chemical composition with different physical features gives different results\",\n",
    "    \"covid (virus)\",\n",
    "    \"allographics composition has different features of compounds for such as elmas and grafit. they have different arragement of atoms and they have different crystial structures. elmas and grafit is same chemical comporisiton but they have different arragment of atoms. so elmas is sert but grafit is yumuşak\",\n",
    "    \"Due to bonds in-between. And bonds depends on temperature and shape.\",\n",
    "    \"It is due to allotropy. Differences in either bound lines and thus the differences in 3D models of the elements changes the physical features of compounds.\",\n",
    "    \"their atoms are attached eachother in different ways.\",\n",
    "    \"This is allotropes , ı could not remember correct name of this.\",\n",
    "    \"Chemical Structure. For example when we heat some certain compounds, we get a different compound. But they will share the same formula. What differs between those two compounds is their Chemical Structure.\",\n",
    "    \"Allatrop . For example diamond and coal. Even though  they are both made of carbon they are totaly different.\",\n",
    "    \"They are same in chemical but have differences in physical.They might have different bonds with same atoms which called polarity and dipolarity.\",\n",
    "    \"Due to diffrences in how their crystal structures were bonded-made.(Allotropizm)\",\n",
    "    \"İf it is the same chemical composition the type of the elements and the numbers of the elements on this composition is same so it depends only how they connected to themself\",\n",
    "    \"Compounds by elemental analysis, color, crystal form, melting point, boiling point, taste, smell.\",\n",
    "    \"this is called allotropism for example diamond and  k      .  its because of atoms order and any other species\",\n",
    "    \"When the elements are joined, the atoms lose their individual properties and have different properties from the elements they are composed of. A chemical formula is used a quick way to show the composition of compounds. Letters, numbers, and symbols are used to represent elements and the number of elements in each compound.\",\n",
    "    \"Because of the polarity and dipolarity. When we look at the geometry of compounds, we can see bonds and angles that makes the compound itself. Also different structures as well.\",\n",
    "    \"they are due to differences in allotrops' s properties\",\n",
    "    \"Chemical bonds cause these different physical features. Compositions may have same kind and many of elements but they might have different physical features. Different kinds of bonds and different bonding styles on same elements causes this differs.\",\n",
    "    \"Allotropism. Allotrops have the same proposition in chemical reactions, but different physical features. For instance, graphit and diamond produced same gas (CO2). Lavoisier were explained allotrops first, as well.\",\n",
    "    \"because this compounds have different location in space. like mirror or left hand right hand. Sometimes this compounds have different chemical bonds.\",\n",
    "    \"due to differences are. \",\n",
    "    \"Due to stereo (3D) structure. It has same atoms but structure is different.\",\n",
    "    \"Because their structures are different. The connection type between elements are different. So in spite of same chemical composition and same close formulation they are different.\",\n",
    "    \"Allotropes are same chemical composition's different structed styles. For example carbon has two different physical shape because of the heat and force on carbon. If you put carbon in bottom of the down and wait too long it will be diamond. So time, force on it and heat are the most important things in this differences.\",\n",
    "    \"isomerism, the existence of molecules that have the same numbers of the same kinds of atoms  hence the same formula but differences  in chemical and physical properties.\"\n",
    "]"
   ]
  },
  {
   "cell_type": "code",
   "execution_count": 3,
   "metadata": {},
   "outputs": [
    {
     "data": {
      "text/plain": [
       "(89, 768)"
      ]
     },
     "execution_count": 3,
     "metadata": {},
     "output_type": "execute_result"
    }
   ],
   "source": [
    "from sentence_transformers import SentenceTransformer\n",
    "model = SentenceTransformer('bert-base-nli-mean-tokens')\n",
    "#Encoding:\n",
    "sentence_embeddings = model.encode(sentences)\n",
    "sentence_embeddings.shape"
   ]
  },
  {
   "cell_type": "code",
   "execution_count": 4,
   "metadata": {},
   "outputs": [
    {
     "data": {
      "text/plain": [
       "array([[0.54292834, 0.49399096, 0.5957842 , 0.6403711 , 0.5025841 ,\n",
       "        0.4213101 , 0.30237675, 0.61664176, 0.37731057, 0.5233089 ,\n",
       "        0.64721864, 0.5573063 , 0.52130765, 0.40308642, 0.45619744,\n",
       "        0.60627687, 0.57087624, 0.55741537, 0.6001767 , 0.5270348 ,\n",
       "        0.46952835, 0.5594169 , 0.46730992, 0.46948296, 0.47965878,\n",
       "        0.5979379 , 0.5607048 , 0.32838038, 0.5804307 , 0.29929918,\n",
       "        0.48204765, 0.635751  , 0.5583181 , 0.42856276, 0.43827245,\n",
       "        0.29929918, 0.4465877 , 0.5384103 , 0.47823274, 0.39863944,\n",
       "        0.31383067, 0.58482695, 0.52044165, 0.4674754 , 0.4288145 ,\n",
       "        0.39378482, 0.47273564, 0.56299984, 0.4981075 , 0.6664448 ,\n",
       "        0.4610973 , 0.5221904 , 0.5926963 , 0.54022324, 0.3663652 ,\n",
       "        0.39715916, 0.4802568 , 0.47113112, 0.6194655 , 0.6056643 ,\n",
       "        0.61312807, 0.49788156, 0.52193713, 0.49510235, 0.37345067,\n",
       "        0.6163988 , 0.60364664, 0.5840455 , 0.6280236 , 0.2544506 ,\n",
       "        0.5825191 , 0.37535214, 0.6204192 , 0.5772389 , 0.48022532,\n",
       "        0.626455  , 0.53836054, 0.5906528 , 0.7284286 , 0.4997959 ,\n",
       "        0.58274466, 0.53360647, 0.5283506 , 0.4233991 , 0.6313995 ,\n",
       "        0.5209867 , 0.45293134, 0.589783  ]], dtype=float32)"
      ]
     },
     "execution_count": 4,
     "metadata": {},
     "output_type": "execute_result"
    }
   ],
   "source": [
    "from sklearn.metrics.pairwise import cosine_similarity\n",
    "#let's calculate cosine similarity for sentence 0:\n",
    "cosine_similarity(\n",
    "    [sentence_embeddings[0]],\n",
    "    sentence_embeddings[1:]\n",
    ")"
   ]
  }
 ],
 "metadata": {
  "interpreter": {
   "hash": "b3ba2566441a7c06988d0923437866b63cedc61552a5af99d1f4fb67d367b25f"
  },
  "kernelspec": {
   "display_name": "Python 3.8.8 64-bit ('base': conda)",
   "language": "python",
   "name": "python3"
  },
  "language_info": {
   "codemirror_mode": {
    "name": "ipython",
    "version": 3
   },
   "file_extension": ".py",
   "mimetype": "text/x-python",
   "name": "python",
   "nbconvert_exporter": "python",
   "pygments_lexer": "ipython3",
   "version": "3.8.8"
  },
  "orig_nbformat": 4
 },
 "nbformat": 4,
 "nbformat_minor": 2
}
