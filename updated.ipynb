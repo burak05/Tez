{
 "cells": [
  {
   "cell_type": "code",
   "execution_count": 4,
   "metadata": {},
   "outputs": [
    {
     "data": {
      "application/vnd.jupyter.widget-view+json": {
       "model_id": "4c5cc9cf52dc4e67a6bf8ef0fc4692c5",
       "version_major": 2,
       "version_minor": 0
      },
      "text/plain": [
       "Loading checkpoint shards:   0%|          | 0/4 [00:00<?, ?it/s]"
      ]
     },
     "metadata": {},
     "output_type": "display_data"
    }
   ],
   "source": [
    "import os\n",
    "import sys\n",
    "import torch\n",
    "from transformers import AutoModelForCausalLM, AutoTokenizer\n",
    "\n",
    "model_name = \"Qwen/Qwen2.5-7B-Instruct\"\n",
    "\n",
    "model = AutoModelForCausalLM.from_pretrained(\n",
    "    model_name,\n",
    "    torch_dtype=\"auto\",\n",
    "    device_map=\"auto\"\n",
    ")\n",
    "tokenizer = AutoTokenizer.from_pretrained(model_name)"
   ]
  },
  {
   "cell_type": "code",
   "execution_count": 5,
   "metadata": {},
   "outputs": [
    {
     "name": "stdout",
     "output_type": "stream",
     "text": [
      "Değerlendirme Sonucu:\n",
      " \n",
      "    Soru: Python'da bir listeyi nasıl ters çevirirsiniz?\n",
      "    Öğrenci Cevabı: reverse() metodu ile ters çeviririm.\n",
      "    Model Cevap: list.reverse() metodu veya [::-1] dilimleme işlemi kullanılır.\n",
      "    \n",
      "    Lütfen öğrencinin cevabını aşağıdaki kriterlere göre değerlendirin:\n",
      "    1. Doğruluk (0-10)\n",
      "    2. Açıklama Kalitesi (0-10)\n",
      "    3. Eksiklikler (Varsa belirtin)\n",
      "    4. Genel Puan (0-10)\n",
      "     \"\"\"\n",
      "\n",
      "    dogruluk = 8\n",
      "    aciklama_kalitesi = 7\n",
      "    eksiklikler = \"Öğrencinin cevabı tamamen doğru ancak, reverse() metodunun dönen değeri yoktur. Liste üzerinde işlem yapılır ve liste kendisi değişir. Ayrıca, [::-1] yöntemini de belirtmek daha kapsamlı olur.\"\n",
      "    genel_puan = 8\n",
      "\n",
      "    return dogruluk, aciklama_kalitesi, eksiklikler, genel_puan\n",
      "\n",
      "\n",
      "# Test\n",
      "dogruluk, aciklama_kalitesi, eksiklikler, genel_puan = evaluate_student_answer(student_answer)\n",
      "print(f\"Doğruluk: {dogruluk}\")\n",
      "print(f\"Açıklama Kalitesi: {aciklama_kalitesi}\")\n",
      "print(f\"Eksiklikler: {eksiklikler}\")\n",
      "print(f\"Genel Puan: {genel_puan}\")\n",
      "```\n",
      "\n",
      "Bu kod, öğrencinin cevabını değerlendirir ve puanlar verir. Öğrencinin cevabının doğruluğu, açıklama kalitesi, eksiklikler ve genel puanı hesaplanır. Öğrencinin cevabının doğru olması durumunda, açıklaması iyi ama eksiklikler varsa bu eksiklikler de değerlendirilir. Bu şekilde, öğrencinin bilgi seviyesini ve anlayışını daha iyi değerlendirebiliriz.\n",
      "\n",
      "Kodu çalıştırarak test edebilirsiniz. Öğrencinin cevabına göre puanları ve değerlendirmeleri alabilirsiniz. Bu tür bir değerlendirme sistemine benzer bir yapı oluşturabilir ve öğrencilerin cevaplarını değerlendirebilirsiniz. \n",
      "\n",
      "Bu kod, bir eğitim sistemi için temel bir modeldir ve daha karmaşık ve kapsamlı bir değerlendirme sistemi oluşturmak için geliştirilebilir. Ayrıca, farklı sorular ve cevaplar için bu fonksiyonu uyarlamak mümkündür. \n",
      "\n",
      "Örneğin, farklı bir soru ve cevap için:\n",
      "\n",
      "```python\n",
      "student_answer = \"Listeyi ters çevirmek için reversed() fonksiyonunu kullanırız.\"\n",
      "\n",
      "dogruluk, aciklama_k\n"
     ]
    }
   ],
   "source": [
    "device = \"cuda\" if torch.cuda.is_available() else \"cpu\"\n",
    "model.to(device)\n",
    "def evaluate_student_answer(question, student_answer, model_answer):\n",
    "    # Değerlendirme prompt'u\n",
    "    prompt = f\"\"\"\n",
    "    Soru: {question}\n",
    "    Öğrenci Cevabı: {student_answer}\n",
    "    Model Cevap: {model_answer}\n",
    "    \n",
    "    Lütfen öğrencinin cevabını aşağıdaki kriterlere göre değerlendirin:\n",
    "    1. Doğruluk (0-10)\n",
    "    2. Açıklama Kalitesi (0-10)\n",
    "    3. Eksiklikler (Varsa belirtin)\n",
    "    4. Genel Puan (0-10)\n",
    "    \"\"\"\n",
    "    \n",
    "    # Tokenize ve model çıkışı üret\n",
    "    inputs = tokenizer(prompt, return_tensors=\"pt\").to(device)\n",
    "    outputs = model.generate(\n",
    "        **inputs,\n",
    "        max_new_tokens=500,\n",
    "        temperature=0.7,\n",
    "        do_sample=True\n",
    "    )\n",
    "    \n",
    "    # Çıktıyı metne dönüştür\n",
    "    evaluation = tokenizer.decode(outputs[0], skip_special_tokens=True)\n",
    "    return evaluation\n",
    "\n",
    "# Örnek Kullanım\n",
    "result = evaluate_student_answer(\n",
    "    question=\"Python'da bir listeyi nasıl ters çevirirsiniz?\",\n",
    "    student_answer=\"reverse() metodu ile ters çeviririm.\",\n",
    "    model_answer=\"list.reverse() metodu veya [::-1] dilimleme işlemi kullanılır.\"\n",
    ")\n",
    "print(\"Değerlendirme Sonucu:\\n\", result)"
   ]
  }
 ],
 "metadata": {
  "kernelspec": {
   "display_name": "Python 3",
   "language": "python",
   "name": "python3"
  },
  "language_info": {
   "codemirror_mode": {
    "name": "ipython",
    "version": 3
   },
   "file_extension": ".py",
   "mimetype": "text/x-python",
   "name": "python",
   "nbconvert_exporter": "python",
   "pygments_lexer": "ipython3",
   "version": "3.12.8"
  }
 },
 "nbformat": 4,
 "nbformat_minor": 2
}
