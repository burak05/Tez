{
 "cells": [
  {
   "cell_type": "code",
   "execution_count": 1,
   "metadata": {},
   "outputs": [
    {
     "name": "stderr",
     "output_type": "stream",
     "text": [
      "Downloading: 100%|██████████| 399/399 [00:00<00:00, 400kB/s]\n",
      "Downloading: 100%|██████████| 625/625 [00:00<00:00, 208kB/s]\n",
      "Downloading: 100%|██████████| 226k/226k [00:00<00:00, 328kB/s]  \n",
      "Downloading: 100%|██████████| 455k/455k [00:01<00:00, 463kB/s]  \n",
      "Downloading: 100%|██████████| 2.00/2.00 [00:00<00:00, 2.01kB/s]\n",
      "Downloading: 100%|██████████| 112/112 [00:00<00:00, 36.7kB/s]\n",
      "Downloading: 100%|██████████| 418M/418M [01:55<00:00, 3.79MB/s] \n"
     ]
    }
   ],
   "source": [
    "from transformers import AutoTokenizer, AutoModel\n",
    "import torch\n",
    "#nitialize our model and tokenizer:\n",
    "tokenizer = AutoTokenizer.from_pretrained('sentence-transformers/bert-base-nli-mean-tokens')\n",
    "model = AutoModel.from_pretrained('sentence-transformers/bert-base-nli-mean-tokens')\n",
    "\n",
    "sentences = [\n",
    "    \"Due to internal crystal structure of the molecules.\",\n",
    "    \"nuclears theory  3D structure cube added or removed atoms\",\n",
    "    \"Because of count of elements. Mostly about carbon dioxide.\",\n",
    "    \"Allotrops such as diamond and graphit they have the same chemical composition but they have a different type of crystal structures.\",\n",
    "    \"this name is izonom or isonome this caused from difference connection type of atoms and if is it dipol.\",\n",
    "    \"because of elements energy and pyhsical features has different reaction for every composition.\",\n",
    "    \"for example water  and ice. both materials are same chemical composition =H2O but physical features are compelety different.and there is bağ .and  this determine  ice or water but i couldnt remember.the diffrence is heat.\",\n",
    "    \"Weather and temparature. Because fruit flies' genetics are easily effected affected by temparature and weather. \",\n",
    "    \"Chemical Structure.\",\n",
    "    \"We call that allotropism. We may say diamond and grafit as an example.\",\n",
    "    \"They are different physical features because same chemical's connection build can be different each other.\",\n",
    "    \"We call it isomerism. In isomerism molecules that have the same numbers of the same kinds of atoms but differ in chemical and physical properties.\",\n",
    "    \"Same chemical composition has different physical features because they have different crystal structure.\",\n",
    "    \"isotopes, becuase they have same atomic number but has different electron numbers.\",\n",
    "    \"Change of genetics. Function. dominant genetics and recessive genetics. blend of genetics.modificasion\",\n",
    "    \"They called Allotropes. Allotropes are different crystal structures of the same element. Lavoiser showed that, he showed using diamonds and graphite. Burning diamonds and graphite produced the sam gas (CO2) (This was the first example of allotropism)\",\n",
    "    \"For example graphit and diomond have pure Carbon(6) but they have different physical compound becasue in this case Carbon(6) can make 4 bond with other Carbon(6) atoms and it changes the physical features . So we can say that in compound , shape of bounding is matters.\",\n",
    "    \"differences in their struct differences in their chemical connection\",\n",
    "    \"because when atoms combined with each other their  composition is different for example if \"\"h=h and h-h\"\" their physical features will be different \",\n",
    "    \"Because the atomic weights and molecular weights of the compounds may be different. The bond types and bond numbers between atoms or molecules may be different.\",\n",
    "    \"It might be from temparature. Or it might change by how much material we have. And the ratio between them.\",\n",
    "    \"allotrophism. they have different structures. But they include same elements.\",\n",
    "    \"Allotropes. They have same chemical composition but different physical features.\",\n",
    "    \"It depends on bounds. Bounds depend on locations of elements and we call it allotropism.\",\n",
    "    \"Because they have different allotrops which is changes the physical features. For example coil and diamond.\",\n",
    "    \"Difference in activation energy in a chemical composition can change the compound in the result. For example: we can burn carbon to gain CO (Carbon monoxide) or to gain CO2 (Carbon dioxide) if we give to the reaction different amount of activation energy we can gain one of them.\",\n",
    "    \"When the atom joined, then it lose own properties. So  its characteristic property change. Actually it looks same physcial property but chemical property is different.\",\n",
    "    \"Because atoms are in different places and they have different bonds.\",\n",
    "    \"Allotrops.\",\n",
    "    \"Atoms of the same element are alike( I mean they are also different but has something in common ), but atoms of each element different one from the other in size and weight.\",\n",
    "    \" \",\n",
    "    \"When the elements joined,the atoms lose their charachteristic proporties.\",\n",
    "    \"Molecular bonds are covalent and ionic lead to different pyhsical properties. Different weight , structure and can oxcid.(I mean oksitlenebilme in Turkish). \",\n",
    "    \"The way that atoms are bonded are different. For example diamond and graphite has the same chemical composition but they have different properities. They are different structures of the same element and it is called allotropy.\",\n",
    "    \"Allotropism. Difference in diziliş. Difference in molecular shape of the matter. Like coal and diamond. Those two are only carbons. But their molecular shapes are different.\",\n",
    "    \"Allatropism.Its a different crystal structure of an element.An example coal(grafit) and diamond.They are both made by carbon atoms but their crystal structure is different.So their physical features is different. The heat and pressure on coal turning this coal into diamond, and it takes so much time.\",\n",
    "    \" \",\n",
    "    \"Because elements should behave of differences.And their weight are should be different.The radioactive is change their characteristic.Every elements feature are difference from others.\",\n",
    "    \"Shape, molecular built, freezing point\",\n",
    "    \"Like grafit and diamond. They made from carbon but have different physical apperences and when you burn them same gases out come. The reason is chemical bond differences . \",\n",
    "    \"Because they are in different area.(high,P,d)\",\n",
    "    \"allotrophism (allotropism). Anthony lavoisier found and explain it. He burned diamound and carbon and he see same element carbon dioxid.Carbon and diamound released same gas.\",\n",
    "    \"They are called allotropes. Their features change due to differences in their chemical structures.\",\n",
    "    \"Chemical slecture and extends.\",\n",
    "    \"They called allotrops. Their physical features was different because they can occure in different orans ( farklı oranlarda birleşebiliyorlar.) . (kimyasal bağları ve çekimleri yüzünden farklılar.)\",\n",
    "    \"Distance between cells are different.\",\n",
    "    \"If same chemical composition been in different place , these are going to behavior different. It is due to temperature , high from sea distance . I\",\n",
    "    \"because of allotrope of elements\",\n",
    "    \"Because elements can be make ionik or covalent band. If there are metal and nonmetal, they can be ionik band. If there are two nonmetal, they can be covalent  band. They could be izotop each other. Izotop is, in the same compositions proton counts are same but mass numbers are different.\",\n",
    "    \"While working with diamond and graphite Lavoiser noticed that when burned them they released same type gases.(allotropism)Then lieb and Wöhler were about Two different compounds with same percentages of elements.this implies compounds have different arrangements for have different structurals. Because of the stereochemistry.İn a nutshell it is like this they have diiferent physical features because they different arrangement of atoms their 3D structure is different.  \",\n",
    "    \"Allotrop. they have the same atoms but  structure of atoms, their bonds is different each other.\",\n",
    "    \"The element particuleses got bounds with different ways.\",\n",
    "    \"This differences in the strecture make this. If the same chemical composition but different strecture its become different physical features. \",\n",
    "    \"diiference in chemical connecting type. it names is allotrop if there is chemicial composition but physical features of compounds are due to different it means they are allotrops.\",\n",
    "    \"Difference is structure of atoms and arrengement of atoms. And also smell,taste can be different.\",\n",
    "    \"Chemical composition and physical features are not connected each other.They just represent  each other.\",\n",
    "    \"I think it says allotrop beacuse there arre some carbon but became different mate  it's about their connecting differences for example carbon has 4 connector sometimes it has 4 connects sometimes 2 times double connects so it makes mate different from each other. if it's not about allotrop. Maybe it is about during connecting time's air pressure or temparture differences beacuse they are effecting.\",\n",
    "    \"Cells of plants and animals are almost the same, but physically very different from each other.\",\n",
    "    \" alllogritms  is  same  chemical composittion but  different compounds because Carbon element is different order so    example diamong and grafiti\",\n",
    "    \"Same chemical composition but different physical features of compounds are due to differences in isomerism. Its called Isomerism. Isomerism, the molecules that have same numbers of the same kinds of atoms but difference in chemical and physical properties. Energy are also is a factor in isomerism.\",\n",
    "    \"It is called something like allotropes. It is due to differences in molecular structures.\",\n",
    "    \"Some of chemical composition are similar but there are difference among their. When the elements are joined, the atoms lose their individual properties and have different properties from the elements they are composed of. A chemical formula is used a quick way to show the composition of compounds. Letters, numbers, and symbols are used to represent elements and the number of elements in each compound.\",\n",
    "    \"Because of allotropism . We see that their chemical formulas are the same but their featuers are completly different.\",\n",
    "    \"Same chemical composition but different physical features of compounds are due tou differences in period number. Elements which in the same group acts in a similar way as chemical composition. Because the number of atoms they have in the last orbital is same they have same chemical composition. But the total quantity of atoms they have is different so their atomic number is different and they have different physical features of compounds.\",\n",
    "    \"Same chemical composition with different physical features gives different results\",\n",
    "    \"covid (virus)\",\n",
    "    \"allographics composition has different features of compounds for such as elmas and grafit. they have different arragement of atoms and they have different crystial structures. elmas and grafit is same chemical comporisiton but they have different arragment of atoms. so elmas is sert but grafit is yumuşak\",\n",
    "    \"Due to bonds in-between. And bonds depends on temperature and shape.\",\n",
    "    \"It is due to allotropy. Differences in either bound lines and thus the differences in 3D models of the elements changes the physical features of compounds.\",\n",
    "    \"their atoms are attached eachother in different ways.\",\n",
    "    \"This is allotropes , ı could not remember correct name of this.\",\n",
    "    \"Chemical Structure. For example when we heat some certain compounds, we get a different compound. But they will share the same formula. What differs between those two compounds is their Chemical Structure.\",\n",
    "    \"Allatrop . For example diamond and coal. Even though  they are both made of carbon they are totaly different.\",\n",
    "    \"They are same in chemical but have differences in physical.They might have different bonds with same atoms which called polarity and dipolarity.\",\n",
    "    \"Due to diffrences in how their crystal structures were bonded-made.(Allotropizm)\",\n",
    "    \"İf it is the same chemical composition the type of the elements and the numbers of the elements on this composition is same so it depends only how they connected to themself\",\n",
    "    \"Compounds by elemental analysis, color, crystal form, melting point, boiling point, taste, smell.\",\n",
    "    \"this is called allotropism for example diamond and  k      .  its because of atoms order and any other species\",\n",
    "    \"When the elements are joined, the atoms lose their individual properties and have different properties from the elements they are composed of. A chemical formula is used a quick way to show the composition of compounds. Letters, numbers, and symbols are used to represent elements and the number of elements in each compound.\",\n",
    "    \"Because of the polarity and dipolarity. When we look at the geometry of compounds, we can see bonds and angles that makes the compound itself. Also different structures as well.\",\n",
    "    \"they are due to differences in allotrops' s properties\",\n",
    "    \"Chemical bonds cause these different physical features. Compositions may have same kind and many of elements but they might have different physical features. Different kinds of bonds and different bonding styles on same elements causes this differs.\",\n",
    "    \"Allotropism. Allotrops have the same proposition in chemical reactions, but different physical features. For instance, graphit and diamond produced same gas (CO2). Lavoisier were explained allotrops first, as well.\",\n",
    "    \"because this compounds have different location in space. like mirror or left hand right hand. Sometimes this compounds have different chemical bonds.\",\n",
    "    \"due to differences are. \",\n",
    "    \"Due to stereo (3D) structure. It has same atoms but structure is different.\",\n",
    "    \"Because their structures are different. The connection type between elements are different. So in spite of same chemical composition and same close formulation they are different.\",\n",
    "    \"Allotropes are same chemical composition's different structed styles. For example carbon has two different physical shape because of the heat and force on carbon. If you put carbon in bottom of the down and wait too long it will be diamond. So time, force on it and heat are the most important things in this differences.\",\n",
    "    \"isomerism, the existence of molecules that have the same numbers of the same kinds of atoms  hence the same formula but differences  in chemical and physical properties.\"\n",
    "]"
   ]
  },
  {
   "cell_type": "code",
   "execution_count": 3,
   "metadata": {},
   "outputs": [],
   "source": [
    "# initialize dictionary: stores tokenized sentences\n",
    "token = {'input_ids': [], 'attention_mask': []}\n",
    "for sentence in sentences:\n",
    "    # encode each sentence, append to dictionary\n",
    "    new_token = tokenizer.encode_plus(sentence, max_length=128,\n",
    "                                       truncation=True, padding='max_length',\n",
    "                                       return_tensors='pt')\n",
    "    token['input_ids'].append(new_token['input_ids'][0])\n",
    "    token['attention_mask'].append(new_token['attention_mask'][0])\n",
    "# reformat list of tensors to single tensor\n",
    "token['input_ids'] = torch.stack(token['input_ids'])\n",
    "token['attention_mask'] = torch.stack(token['attention_mask'])"
   ]
  },
  {
   "cell_type": "code",
   "execution_count": 4,
   "metadata": {},
   "outputs": [
    {
     "data": {
      "text/plain": [
       "odict_keys(['last_hidden_state', 'pooler_output'])"
      ]
     },
     "execution_count": 4,
     "metadata": {},
     "output_type": "execute_result"
    }
   ],
   "source": [
    "#Process tokens through model:\n",
    "output = model(**token)\n",
    "output.keys()"
   ]
  },
  {
   "cell_type": "code",
   "execution_count": 6,
   "metadata": {},
   "outputs": [
    {
     "data": {
      "text/plain": [
       "tensor([[[ 3.9123e-04,  6.4580e-03,  1.0868e+00,  ..., -1.2566e-01,\n",
       "          -3.2072e-01,  8.1062e-01],\n",
       "         [ 2.5805e-01,  2.1626e-01,  1.1039e+00,  ..., -1.5393e-01,\n",
       "          -8.2509e-01,  7.9541e-01],\n",
       "         [-3.7179e-03,  3.9150e-01,  1.1315e+00,  ..., -8.5829e-04,\n",
       "          -9.2647e-01,  8.3780e-01],\n",
       "         ...,\n",
       "         [ 1.5050e-01,  1.4693e-01,  6.4062e-01,  ...,  2.9623e-02,\n",
       "          -3.9537e-01,  7.8815e-01],\n",
       "         [-5.7253e-02,  1.6853e-01,  7.0495e-01,  ...,  6.3203e-02,\n",
       "          -4.3314e-01,  8.2506e-01],\n",
       "         [-5.7755e-02,  1.9026e-01,  7.1769e-01,  ...,  6.8115e-02,\n",
       "          -4.5520e-01,  8.3012e-01]],\n",
       "\n",
       "        [[ 5.1272e-02,  1.0371e+00, -2.1329e-01,  ..., -1.1951e-01,\n",
       "           9.7369e-01,  7.8573e-01],\n",
       "         [ 2.9256e-01,  1.3869e+00, -3.8210e-01,  ..., -4.0060e-01,\n",
       "           6.0828e-01,  4.5307e-01],\n",
       "         [ 2.2561e-01,  9.6784e-01,  8.3062e-02,  ...,  5.0901e-02,\n",
       "           8.4115e-01,  6.3914e-01],\n",
       "         ...,\n",
       "         [ 2.5968e-01,  4.3035e-01, -2.0893e-01,  ...,  2.9837e-01,\n",
       "           5.9260e-01,  4.7103e-01],\n",
       "         [ 2.7540e-01,  5.3876e-01, -2.1053e-01,  ...,  2.8559e-01,\n",
       "           5.4460e-01,  4.7723e-01],\n",
       "         [ 2.7713e-01,  5.4021e-01, -1.2114e-01,  ...,  2.6754e-01,\n",
       "           4.8554e-01,  4.7646e-01]],\n",
       "\n",
       "        [[-1.2178e-01,  1.9485e-01, -4.7630e-01,  ..., -9.5809e-02,\n",
       "           9.5580e-01,  4.5292e-01],\n",
       "         [ 2.9157e-01,  5.0479e-01, -3.6965e-01,  ..., -2.5588e-01,\n",
       "           6.6573e-01,  3.9248e-01],\n",
       "         [-8.4918e-02,  4.1483e-01, -4.3195e-01,  ..., -1.9160e-01,\n",
       "           7.8776e-01,  4.4374e-01],\n",
       "         ...,\n",
       "         [ 3.2757e-01,  3.6998e-01, -4.5722e-01,  ...,  1.6641e-02,\n",
       "           6.2919e-01,  3.2175e-01],\n",
       "         [ 1.6741e-01,  2.4932e-01, -4.7902e-01,  ...,  1.7404e-01,\n",
       "           6.5470e-01,  3.7309e-01],\n",
       "         [ 1.9929e-01,  3.4932e-01, -4.4010e-01,  ...,  5.9621e-02,\n",
       "           5.5098e-01,  3.7873e-01]],\n",
       "\n",
       "        ...,\n",
       "\n",
       "        [[ 6.0348e-01,  2.5924e-01,  2.1354e-01,  ..., -1.6919e-01,\n",
       "           1.7430e-01,  2.7886e-01],\n",
       "         [ 1.2115e+00,  5.3246e-01,  6.3844e-01,  ..., -1.1579e-01,\n",
       "           1.3467e-01,  6.3356e-01],\n",
       "         [ 4.3888e-01,  7.0606e-01,  6.9717e-01,  ..., -4.8863e-01,\n",
       "           1.0775e-01,  1.2972e-01],\n",
       "         ...,\n",
       "         [ 8.1036e-01,  2.6471e-01,  1.1861e-01,  ..., -9.2217e-02,\n",
       "           2.5548e-01,  6.2939e-01],\n",
       "         [ 7.1743e-01,  2.2010e-01,  1.5396e-02,  ..., -1.2200e-01,\n",
       "           1.9295e-01,  6.7324e-01],\n",
       "         [ 7.7225e-01,  2.2920e-01,  3.3442e-03,  ..., -1.2058e-01,\n",
       "           2.8439e-01,  5.7903e-01]],\n",
       "\n",
       "        [[-2.0269e-01,  8.7283e-01, -8.2020e-01,  ..., -3.0854e-01,\n",
       "           6.1680e-01,  1.8481e-01],\n",
       "         [-1.7336e-01,  5.4141e-01, -8.8653e-01,  ...,  1.9693e-03,\n",
       "           1.0782e+00, -4.7347e-01],\n",
       "         [ 1.2193e-01,  1.8970e-01, -1.5048e+00,  ..., -1.4818e-01,\n",
       "           7.3697e-01,  5.6287e-01],\n",
       "         ...,\n",
       "         [ 1.1623e-01,  3.2632e-01, -5.8246e-01,  ...,  1.1872e-01,\n",
       "           3.3760e-01,  2.3693e-01],\n",
       "         [ 4.2484e-02,  2.7630e-01, -5.6222e-01,  ...,  1.3653e-01,\n",
       "           2.5291e-01,  2.7312e-01],\n",
       "         [ 3.0753e-01,  3.6069e-01, -7.5973e-01,  ...,  2.3386e-01,\n",
       "           2.6294e-01,  1.4898e-01]],\n",
       "\n",
       "        [[-8.0054e-02,  1.1537e+00, -8.7116e-01,  ..., -2.2420e-02,\n",
       "           7.8912e-01,  6.9148e-01],\n",
       "         [ 2.5714e-01,  1.2083e+00, -5.0613e-01,  ..., -3.0844e-02,\n",
       "           3.9116e-01,  1.5828e-01],\n",
       "         [ 1.5130e-01,  9.9524e-01, -7.2865e-01,  ..., -5.5817e-01,\n",
       "           4.9929e-01,  1.9334e-01],\n",
       "         ...,\n",
       "         [-5.8473e-02,  5.6656e-01, -5.4531e-01,  ...,  1.9623e-01,\n",
       "           4.7315e-01,  4.9198e-01],\n",
       "         [ 4.0832e-02,  7.1511e-01, -4.1610e-01,  ...,  8.2972e-02,\n",
       "           4.1837e-01,  6.1930e-01],\n",
       "         [ 6.1957e-02,  7.6466e-01, -4.0634e-01,  ...,  9.5306e-02,\n",
       "           4.4785e-01,  6.0046e-01]]], grad_fn=<NativeLayerNormBackward0>)"
      ]
     },
     "execution_count": 6,
     "metadata": {},
     "output_type": "execute_result"
    }
   ],
   "source": [
    "#The dense vector representations of text are contained within the outputs 'last_hidden_state' tensor\n",
    "embeddings = output.last_hidden_state\n",
    "embeddings"
   ]
  },
  {
   "cell_type": "code",
   "execution_count": 7,
   "metadata": {},
   "outputs": [
    {
     "data": {
      "text/plain": [
       "torch.Size([89, 128])"
      ]
     },
     "execution_count": 7,
     "metadata": {},
     "output_type": "execute_result"
    }
   ],
   "source": [
    "# To perform this operation, we first resize our attention_mask tensor:\n",
    "att_mask = token['attention_mask']\n",
    "att_mask.shape"
   ]
  },
  {
   "cell_type": "code",
   "execution_count": 8,
   "metadata": {},
   "outputs": [
    {
     "data": {
      "text/plain": [
       "torch.Size([89, 128, 768])"
      ]
     },
     "execution_count": 8,
     "metadata": {},
     "output_type": "execute_result"
    }
   ],
   "source": [
    "mask = att_mask.unsqueeze(-1).expand(embeddings.size()).float()\n",
    "mask.shape"
   ]
  },
  {
   "cell_type": "code",
   "execution_count": 9,
   "metadata": {},
   "outputs": [
    {
     "data": {
      "text/plain": [
       "torch.Size([89, 128, 768])"
      ]
     },
     "execution_count": 9,
     "metadata": {},
     "output_type": "execute_result"
    }
   ],
   "source": [
    "mask_embeddings = embeddings * mask\n",
    "mask_embeddings.shape"
   ]
  },
  {
   "cell_type": "code",
   "execution_count": 10,
   "metadata": {},
   "outputs": [
    {
     "data": {
      "text/plain": [
       "torch.Size([89, 768])"
      ]
     },
     "execution_count": 10,
     "metadata": {},
     "output_type": "execute_result"
    }
   ],
   "source": [
    "#Then we sum the remained of the embeddings along axis 1:\n",
    "summed = torch.sum(mask_embeddings, 1)\n",
    "summed.shape"
   ]
  },
  {
   "cell_type": "code",
   "execution_count": 11,
   "metadata": {},
   "outputs": [
    {
     "data": {
      "text/plain": [
       "torch.Size([89, 768])"
      ]
     },
     "execution_count": 11,
     "metadata": {},
     "output_type": "execute_result"
    }
   ],
   "source": [
    "#Then sum the number of values that must be given attention in each position of the tensor:\n",
    "summed_mask = torch.clamp(mask.sum(1), min=1e-9)\n",
    "summed_mask.shape"
   ]
  },
  {
   "cell_type": "code",
   "execution_count": 14,
   "metadata": {},
   "outputs": [
    {
     "data": {
      "text/plain": [
       "tensor([[-0.0157,  0.3473,  1.0865,  ..., -0.2660, -0.7467,  0.8774],\n",
       "        [ 0.3782,  1.0707, -0.1036,  ...,  0.0122,  0.6669,  0.7450],\n",
       "        [ 0.1297,  0.4790, -0.5381,  ..., -0.2848,  0.6603,  0.2929],\n",
       "        ...,\n",
       "        [ 0.7974,  0.5282,  0.2868,  ..., -0.3962,  0.1445,  0.2730],\n",
       "        [ 0.1066,  0.5531, -0.7288,  ..., -0.2284,  0.3556,  0.0024],\n",
       "        [ 0.3767,  1.2516, -0.5360,  ..., -0.0477,  0.4870,  0.6824]],\n",
       "       grad_fn=<DivBackward0>)"
      ]
     },
     "execution_count": 14,
     "metadata": {},
     "output_type": "execute_result"
    }
   ],
   "source": [
    "mean_pooled = summed / summed_mask\n",
    "mean_pooled\n"
   ]
  },
  {
   "cell_type": "code",
   "execution_count": 17,
   "metadata": {},
   "outputs": [
    {
     "data": {
      "text/plain": [
       "array([[0.54292834, 0.49399096, 0.5957842 , 0.6403711 , 0.5025841 ,\n",
       "        0.4213101 , 0.30237675, 0.61664176, 0.37731054, 0.5233089 ,\n",
       "        0.64721876, 0.5573063 , 0.52130765, 0.40308642, 0.45619744,\n",
       "        0.60627687, 0.57087624, 0.55741537, 0.6001767 , 0.5270348 ,\n",
       "        0.46952835, 0.5594169 , 0.46730992, 0.46948296, 0.47965878,\n",
       "        0.5979379 , 0.5607048 , 0.32838038, 0.5804307 , 0.29929918,\n",
       "        0.48204768, 0.635751  , 0.5583181 , 0.42856276, 0.43827245,\n",
       "        0.29929918, 0.4465877 , 0.5384103 , 0.47823274, 0.39863944,\n",
       "        0.31383067, 0.58482695, 0.52044165, 0.4674754 , 0.4288145 ,\n",
       "        0.39378482, 0.47273564, 0.56299984, 0.49810746, 0.6664448 ,\n",
       "        0.4610973 , 0.5221904 , 0.5926963 , 0.54022324, 0.3663652 ,\n",
       "        0.39715916, 0.4802568 , 0.47113112, 0.6194655 , 0.6056643 ,\n",
       "        0.61312807, 0.49788156, 0.52193713, 0.49510235, 0.37345067,\n",
       "        0.6163988 , 0.60364664, 0.5840455 , 0.6280236 , 0.25445062,\n",
       "        0.5825191 , 0.37535214, 0.6204192 , 0.5772389 , 0.48022532,\n",
       "        0.626455  , 0.53836054, 0.5906528 , 0.7284286 , 0.4997959 ,\n",
       "        0.58274466, 0.53360647, 0.5283506 , 0.4233991 , 0.6313996 ,\n",
       "        0.5209867 , 0.45293134, 0.589783  ]], dtype=float32)"
      ]
     },
     "execution_count": 17,
     "metadata": {},
     "output_type": "execute_result"
    }
   ],
   "source": [
    "from sklearn.metrics.pairwise import cosine_similarity\n",
    "#Let's calculate cosine similarity for sentence 0:\n",
    "# convert from PyTorch tensor to numpy array\n",
    "mean_pooled = mean_pooled.detach().numpy()\n",
    "# calculate\n",
    "cosine_similarity(\n",
    "    [mean_pooled[0]],\n",
    "    mean_pooled[1:]\n",
    ")"
   ]
  }
 ],
 "metadata": {
  "interpreter": {
   "hash": "b3ba2566441a7c06988d0923437866b63cedc61552a5af99d1f4fb67d367b25f"
  },
  "kernelspec": {
   "display_name": "Python 3.8.8 64-bit ('base': conda)",
   "language": "python",
   "name": "python3"
  },
  "language_info": {
   "codemirror_mode": {
    "name": "ipython",
    "version": 3
   },
   "file_extension": ".py",
   "mimetype": "text/x-python",
   "name": "python",
   "nbconvert_exporter": "python",
   "pygments_lexer": "ipython3",
   "version": "3.8.8"
  },
  "orig_nbformat": 4
 },
 "nbformat": 4,
 "nbformat_minor": 2
}
