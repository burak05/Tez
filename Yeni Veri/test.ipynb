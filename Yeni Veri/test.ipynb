{
 "cells": [
  {
   "cell_type": "code",
   "execution_count": 3,
   "metadata": {},
   "outputs": [
    {
     "data": {
      "text/html": [
       "<div>\n",
       "<style scoped>\n",
       "    .dataframe tbody tr th:only-of-type {\n",
       "        vertical-align: middle;\n",
       "    }\n",
       "\n",
       "    .dataframe tbody tr th {\n",
       "        vertical-align: top;\n",
       "    }\n",
       "\n",
       "    .dataframe thead th {\n",
       "        text-align: right;\n",
       "    }\n",
       "</style>\n",
       "<table border=\"1\" class=\"dataframe\">\n",
       "  <thead>\n",
       "    <tr style=\"text-align: right;\">\n",
       "      <th></th>\n",
       "      <th>StudentID</th>\n",
       "      <th>Answer</th>\n",
       "      <th>Score</th>\n",
       "    </tr>\n",
       "  </thead>\n",
       "  <tbody>\n",
       "    <tr>\n",
       "      <th>0</th>\n",
       "      <td>20190808014</td>\n",
       "      <td>arabs contributed important concepts like opti...</td>\n",
       "      <td>20</td>\n",
       "    </tr>\n",
       "    <tr>\n",
       "      <th>1</th>\n",
       "      <td>20190808021</td>\n",
       "      <td>ali ku credit u proved astronomical facts evid...</td>\n",
       "      <td>8</td>\n",
       "    </tr>\n",
       "    <tr>\n",
       "      <th>2</th>\n",
       "      <td>20190808035</td>\n",
       "      <td>estimate number days year geography need know ...</td>\n",
       "      <td>4</td>\n",
       "    </tr>\n",
       "    <tr>\n",
       "      <th>3</th>\n",
       "      <td>20200808003</td>\n",
       "      <td>samarkand school geography astronomy provided ...</td>\n",
       "      <td>14</td>\n",
       "    </tr>\n",
       "    <tr>\n",
       "      <th>4</th>\n",
       "      <td>20200808008</td>\n",
       "      <td>glass optics omar khayyam described laws refle...</td>\n",
       "      <td>18</td>\n",
       "    </tr>\n",
       "  </tbody>\n",
       "</table>\n",
       "</div>"
      ],
      "text/plain": [
       "     StudentID                                             Answer  Score\n",
       "0  20190808014  arabs contributed important concepts like opti...     20\n",
       "1  20190808021  ali ku credit u proved astronomical facts evid...      8\n",
       "2  20190808035  estimate number days year geography need know ...      4\n",
       "3  20200808003  samarkand school geography astronomy provided ...     14\n",
       "4  20200808008  glass optics omar khayyam described laws refle...     18"
      ]
     },
     "execution_count": 3,
     "metadata": {},
     "output_type": "execute_result"
    }
   ],
   "source": [
    "import pandas as pd\n",
    "import numpy as np\n",
    "from sklearn.metrics.pairwise import cosine_similarity\n",
    "from sklearn.feature_extraction.text import TfidfVectorizer\n",
    "from sklearn.metrics import r2_score\n",
    "import matplotlib.pyplot as plt\n",
    "import seaborn as sns\n",
    "import tensorflow_hub as hub\n",
    "import tensorflow as tf\n",
    "from sentence_transformers import SentenceTransformer, util\n",
    "from InstructorEmbedding import INSTRUCTOR\n",
    "from transformers import AutoModel\n",
    "import torch\n",
    "import re\n",
    "# Excel dosyasını okuma ve \"Q-1\" sayfasını yükleme\n",
    "excel_path = 'new_processed-answers.xlsx'\n",
    "q1_data = pd.read_excel(excel_path, sheet_name='Q-1')\n",
    "\n",
    "# \"Q-1\" sayfasının ilk birkaç satırını göstererek veri yapısını kontrol edelim\n",
    "q1_data.head()\n"
   ]
  },
  {
   "cell_type": "code",
   "execution_count": 4,
   "metadata": {},
   "outputs": [
    {
     "data": {
      "text/plain": [
       "{('optic', 'refract||reflect||transmis', 'lens:4'): 8,\n",
       " ('algorithm', 'alcho', 'quaran', 'algebra:2'): 4,\n",
       " ('cartog||map&&make',\n",
       "  'map&&piri||reis',\n",
       "  'time||pray||mecce||mekke||makka'): 4,\n",
       " ('transla', 'library:3', 'wisdom&&house', 'collect&&know', 'save&&know'): 6,\n",
       " ('ibn&&sina', 'surgery', 'blood&&circula', 'circul:2'): 4}"
      ]
     },
     "execution_count": 4,
     "metadata": {},
     "output_type": "execute_result"
    }
   ],
   "source": [
    "# Verilen pluskeywords ve pluspoints listelerini kullanarak bir sözlük yapısı oluşturulacak\n",
    "pluskeywords =  [\n",
    "    ['optic','refract||reflect||transmis','lens:4'],\n",
    "    ['algorithm','alcho','quaran','algebra:2'],\n",
    "    ['cartog||map&&make','map&&piri||reis','time||pray||mecce||mekke||makka'],\n",
    "    ['transla', 'library:3','wisdom&&house','collect&&know','save&&know'],\n",
    "    ['ibn&&sina','surgery','blood&&circula','circul:2']\n",
    "]\n",
    "\n",
    "pluspoints = [8, 4, 4, 6, 4]\n",
    "\n",
    "# Anahtar kelimeleri ve puanları birleştiren bir sözlük yapısı oluştur\n",
    "plus_keyword_points = {tuple(group): point for group, point in zip(pluskeywords, pluspoints)}\n",
    "\n",
    "plus_keyword_points\n"
   ]
  },
  {
   "cell_type": "code",
   "execution_count": 7,
   "metadata": {},
   "outputs": [],
   "source": [
    "# Maksimum 20 puanla sınırlı olarak cevapları değerlendirme ve puanlama fonksiyonu\n",
    "def evaluate_answers_max_20(answers, keywords_points):\n",
    "    evaluated_scores_max_20 = []  # Hesaplanan puanların saklandığı liste\n",
    "    \n",
    "    # Her bir cevabı dolaş\n",
    "    for answer in answers:\n",
    "        # Cevabı string olarak garanti altına al\n",
    "        answer_str = str(answer)\n",
    "        total_score = 0  # Her bir cevap için toplam puan\n",
    "        \n",
    "        # Anahtar kelime gruplarını ve puanlarını dolaş\n",
    "        for keywords, points in keywords_points.items():\n",
    "            # Her bir anahtar kelime grubu için cevapta arama yap\n",
    "            for keyword in keywords:\n",
    "                if '||' in keyword:\n",
    "                    for sub_keyword in keyword.split('||'):\n",
    "                        if re.search(sub_keyword, answer_str, re.IGNORECASE):\n",
    "                            total_score += points\n",
    "                            break\n",
    "                elif '&&' in keyword:\n",
    "                    all_found = all(re.search(sub_keyword, answer_str, re.IGNORECASE) for sub_keyword in keyword.split('&&'))\n",
    "                    if all_found:\n",
    "                        total_score += points\n",
    "                elif ':' in keyword:\n",
    "                    word, count = keyword.split(':')\n",
    "                    found_count = len(re.findall(word, answer_str, re.IGNORECASE))\n",
    "                    total_score += min(int(count), found_count) * points\n",
    "                else:\n",
    "                    if re.search(keyword, answer_str, re.IGNORECASE):\n",
    "                        total_score += points\n",
    "        \n",
    "        # Toplam puanı 20 ile sınırlandır\n",
    "        total_score = min(total_score, 20)\n",
    "        evaluated_scores_max_20.append(total_score)\n",
    "    \n",
    "    return evaluated_scores_max_20\n",
    "\n",
    "# Anahtar kelime gruplarına göre öğrenci cevaplarını değerlendir ve puanları hesapla (maksimum 20 puanla sınırlı)\n",
    "evaluated_scores_max_20 = evaluate_answers_max_20(q1_data['Answer'], plus_keyword_points)\n",
    "\n",
    "# İlk birkaç hesaplanan puanı göster\n",
    "#evaluated_scores_max_20\n"
   ]
  },
  {
   "cell_type": "code",
   "execution_count": 11,
   "metadata": {},
   "outputs": [
    {
     "data": {
      "text/html": [
       "<div>\n",
       "<style scoped>\n",
       "    .dataframe tbody tr th:only-of-type {\n",
       "        vertical-align: middle;\n",
       "    }\n",
       "\n",
       "    .dataframe tbody tr th {\n",
       "        vertical-align: top;\n",
       "    }\n",
       "\n",
       "    .dataframe thead th {\n",
       "        text-align: right;\n",
       "    }\n",
       "</style>\n",
       "<table border=\"1\" class=\"dataframe\">\n",
       "  <thead>\n",
       "    <tr style=\"text-align: right;\">\n",
       "      <th></th>\n",
       "      <th>StudentID</th>\n",
       "      <th>Original Score</th>\n",
       "      <th>Evaluated Score</th>\n",
       "    </tr>\n",
       "  </thead>\n",
       "  <tbody>\n",
       "    <tr>\n",
       "      <th>0</th>\n",
       "      <td>20190808014</td>\n",
       "      <td>20</td>\n",
       "      <td>20</td>\n",
       "    </tr>\n",
       "    <tr>\n",
       "      <th>1</th>\n",
       "      <td>20190808021</td>\n",
       "      <td>8</td>\n",
       "      <td>8</td>\n",
       "    </tr>\n",
       "    <tr>\n",
       "      <th>2</th>\n",
       "      <td>20190808035</td>\n",
       "      <td>4</td>\n",
       "      <td>4</td>\n",
       "    </tr>\n",
       "    <tr>\n",
       "      <th>3</th>\n",
       "      <td>20200808003</td>\n",
       "      <td>14</td>\n",
       "      <td>20</td>\n",
       "    </tr>\n",
       "    <tr>\n",
       "      <th>4</th>\n",
       "      <td>20200808008</td>\n",
       "      <td>18</td>\n",
       "      <td>20</td>\n",
       "    </tr>\n",
       "  </tbody>\n",
       "</table>\n",
       "</div>"
      ],
      "text/plain": [
       "     StudentID  Original Score  Evaluated Score\n",
       "0  20190808014              20               20\n",
       "1  20190808021               8                8\n",
       "2  20190808035               4                4\n",
       "3  20200808003              14               20\n",
       "4  20200808008              18               20"
      ]
     },
     "execution_count": 11,
     "metadata": {},
     "output_type": "execute_result"
    }
   ],
   "source": [
    "# Öğrenci numarası, orijinal skor, ve yapılan değerlendirme sonuçlarını içeren bir DataFrame oluşturma\n",
    "results_df = pd.DataFrame({\n",
    "    \"StudentID\": q1_data['StudentID'],\n",
    "    \"Original Score\": q1_data['Score'],\n",
    "    \"Evaluated Score\": evaluated_scores_max_20\n",
    "})\n",
    "\n",
    "results_df.head()\n"
   ]
  },
  {
   "cell_type": "code",
   "execution_count": 12,
   "metadata": {},
   "outputs": [
    {
     "data": {
      "text/plain": [
       "0.9477717030389234"
      ]
     },
     "execution_count": 12,
     "metadata": {},
     "output_type": "execute_result"
    }
   ],
   "source": [
    "# Original Score ve Evaluated Score arasındaki korelasyonu hesaplama\n",
    "correlation = results_df['Original Score'].corr(results_df['Evaluated Score'])\n",
    "\n",
    "correlation\n"
   ]
  },
  {
   "cell_type": "code",
   "execution_count": 13,
   "metadata": {},
   "outputs": [
    {
     "data": {
      "image/png": "[encoded data removed]",
      "text/plain": [
       "<Figure size 800x600 with 2 Axes>"
      ]
     },
     "metadata": {},
     "output_type": "display_data"
    }
   ],
   "source": [
    "import numpy as np\n",
    "import seaborn as sns\n",
    "import matplotlib.pyplot as plt\n",
    "from sklearn.metrics import confusion_matrix\n",
    "from sklearn.preprocessing import LabelEncoder\n",
    "\n",
    "# Skorları kategorilere ayırma fonksiyonu\n",
    "def categorize_scores(scores):\n",
    "    bins = [0, 10, 15, 20]\n",
    "    labels = ['Low', 'Medium', 'High']\n",
    "    categories = pd.cut(scores, bins, labels=labels, include_lowest=True)\n",
    "    return categories\n",
    "\n",
    "# Original ve Evaluated Score'ları kategorilere ayır\n",
    "results_df['Original Category'] = categorize_scores(results_df['Original Score'])\n",
    "results_df['Evaluated Category'] = categorize_scores(results_df['Evaluated Score'])\n",
    "\n",
    "# Kategori sayısal değerlere dönüştürme\n",
    "le = LabelEncoder()\n",
    "results_df['Original Category Encoded'] = le.fit_transform(results_df['Original Category'])\n",
    "results_df['Evaluated Category Encoded'] = le.transform(results_df['Evaluated Category'])\n",
    "\n",
    "# Confusion matrisi hesaplama\n",
    "cm = confusion_matrix(results_df['Original Category Encoded'], results_df['Evaluated Category Encoded'])\n",
    "\n",
    "# Confusion matrisini görselleştirme\n",
    "plt.figure(figsize=(8, 6))\n",
    "sns.heatmap(cm, annot=True, fmt=\"d\", cmap=\"Blues\", xticklabels=le.classes_, yticklabels=le.classes_)\n",
    "plt.xlabel('Evaluated Category')\n",
    "plt.ylabel('Original Category')\n",
    "plt.title('Confusion Matrix')\n",
    "plt.show()\n"
   ]
  },
  {
   "cell_type": "code",
   "execution_count": 14,
   "metadata": {},
   "outputs": [
    {
     "data": {
      "text/plain": [
       "{('engineer',\n",
       "  'science',\n",
       "  'technology',\n",
       "  'question&&nature',\n",
       "  'ask&&why',\n",
       "  'evidence||proof',\n",
       "  'open&&mind'): 7,\n",
       " ('road||highway', 'tranport', 'travel||road&&network'): 4,\n",
       " ('aqueduct', 'concrete', 'arch'): 4,\n",
       " ('newspaper', 'theater&&influen||entert', 'culture:2'): 2,\n",
       " ('calendar',): 2,\n",
       " ('division&&power', 'consul||senate||assemb:3', 'republic'): 3,\n",
       " ('battlefield', 'welfare'): 3,\n",
       " ('12&&table', 'legal', 'democracy', 'foreign&&trade', 'conflict'): 3}"
      ]
     },
     "execution_count": 14,
     "metadata": {},
     "output_type": "execute_result"
    }
   ],
   "source": [
    "# Yeni anahtar kelimeler ve puanlar\n",
    "pluskeywords_q2 = [\n",
    "    ['engineer','science','technology','question&&nature','ask&&why','evidence||proof','open&&mind'],\n",
    "    ['road||highway','tranport','travel||road&&network'],\n",
    "    ['aqueduct','concrete','arch'],\n",
    "    ['newspaper','theater&&influen||entert','culture:2'],\n",
    "    ['calendar'],\n",
    "    ['division&&power','consul||senate||assemb:3','republic'],\n",
    "    ['battlefield','welfare'],\n",
    "    ['12&&table','legal', 'democracy','foreign&&trade','conflict']\n",
    "]\n",
    "\n",
    "pluspoints_q2 = [7, 4, 4, 2, 2, 3, 3, 3]\n",
    "\n",
    "# Anahtar kelimeleri ve puanları birleştiren yeni bir sözlük yapısı oluşturma\n",
    "plus_keyword_points_q2 = {tuple(group): point for group, point in zip(pluskeywords_q2, pluspoints_q2)}\n",
    "\n",
    "plus_keyword_points_q2\n"
   ]
  },
  {
   "cell_type": "code",
   "execution_count": 15,
   "metadata": {},
   "outputs": [
    {
     "data": {
      "text/html": [
       "<div>\n",
       "<style scoped>\n",
       "    .dataframe tbody tr th:only-of-type {\n",
       "        vertical-align: middle;\n",
       "    }\n",
       "\n",
       "    .dataframe tbody tr th {\n",
       "        vertical-align: top;\n",
       "    }\n",
       "\n",
       "    .dataframe thead th {\n",
       "        text-align: right;\n",
       "    }\n",
       "</style>\n",
       "<table border=\"1\" class=\"dataframe\">\n",
       "  <thead>\n",
       "    <tr style=\"text-align: right;\">\n",
       "      <th></th>\n",
       "      <th>StudentID</th>\n",
       "      <th>Answer</th>\n",
       "      <th>Score</th>\n",
       "    </tr>\n",
       "  </thead>\n",
       "  <tbody>\n",
       "    <tr>\n",
       "      <th>0</th>\n",
       "      <td>20190808014</td>\n",
       "      <td>advanced modern legal system civil engineering...</td>\n",
       "      <td>17</td>\n",
       "    </tr>\n",
       "    <tr>\n",
       "      <th>1</th>\n",
       "      <td>20190808021</td>\n",
       "      <td>main battlefield surgeries bound books 12 tabl...</td>\n",
       "      <td>18</td>\n",
       "    </tr>\n",
       "    <tr>\n",
       "      <th>2</th>\n",
       "      <td>20190808035</td>\n",
       "      <td>roads highways geometry military engineering s...</td>\n",
       "      <td>11</td>\n",
       "    </tr>\n",
       "    <tr>\n",
       "      <th>3</th>\n",
       "      <td>20200808003</td>\n",
       "      <td>NaN</td>\n",
       "      <td>0</td>\n",
       "    </tr>\n",
       "    <tr>\n",
       "      <th>4</th>\n",
       "      <td>20200808008</td>\n",
       "      <td>achieved civil army engineering republic gover...</td>\n",
       "      <td>17</td>\n",
       "    </tr>\n",
       "  </tbody>\n",
       "</table>\n",
       "</div>"
      ],
      "text/plain": [
       "     StudentID                                             Answer  Score\n",
       "0  20190808014  advanced modern legal system civil engineering...     17\n",
       "1  20190808021  main battlefield surgeries bound books 12 tabl...     18\n",
       "2  20190808035  roads highways geometry military engineering s...     11\n",
       "3  20200808003                                                NaN      0\n",
       "4  20200808008  achieved civil army engineering republic gover...     17"
      ]
     },
     "execution_count": 15,
     "metadata": {},
     "output_type": "execute_result"
    }
   ],
   "source": [
    "# \"Q-2\" sayfasındaki verileri yükleyelim\n",
    "q2_data = pd.read_excel(excel_path, sheet_name='Q-2')\n",
    "\n",
    "# \"Q-2\" sayfasındaki verilerin ilk birkaç satırını kontrol edelim\n",
    "q2_data.head()\n"
   ]
  },
  {
   "cell_type": "code",
   "execution_count": 16,
   "metadata": {},
   "outputs": [
    {
     "data": {
      "text/html": [
       "<div>\n",
       "<style scoped>\n",
       "    .dataframe tbody tr th:only-of-type {\n",
       "        vertical-align: middle;\n",
       "    }\n",
       "\n",
       "    .dataframe tbody tr th {\n",
       "        vertical-align: top;\n",
       "    }\n",
       "\n",
       "    .dataframe thead th {\n",
       "        text-align: right;\n",
       "    }\n",
       "</style>\n",
       "<table border=\"1\" class=\"dataframe\">\n",
       "  <thead>\n",
       "    <tr style=\"text-align: right;\">\n",
       "      <th></th>\n",
       "      <th>StudentID</th>\n",
       "      <th>Original Score</th>\n",
       "      <th>Evaluated Score</th>\n",
       "    </tr>\n",
       "  </thead>\n",
       "  <tbody>\n",
       "    <tr>\n",
       "      <th>0</th>\n",
       "      <td>20190808014</td>\n",
       "      <td>17</td>\n",
       "      <td>20</td>\n",
       "    </tr>\n",
       "    <tr>\n",
       "      <th>1</th>\n",
       "      <td>20190808021</td>\n",
       "      <td>18</td>\n",
       "      <td>20</td>\n",
       "    </tr>\n",
       "    <tr>\n",
       "      <th>2</th>\n",
       "      <td>20190808035</td>\n",
       "      <td>11</td>\n",
       "      <td>18</td>\n",
       "    </tr>\n",
       "    <tr>\n",
       "      <th>3</th>\n",
       "      <td>20200808003</td>\n",
       "      <td>0</td>\n",
       "      <td>0</td>\n",
       "    </tr>\n",
       "    <tr>\n",
       "      <th>4</th>\n",
       "      <td>20200808008</td>\n",
       "      <td>17</td>\n",
       "      <td>20</td>\n",
       "    </tr>\n",
       "  </tbody>\n",
       "</table>\n",
       "</div>"
      ],
      "text/plain": [
       "     StudentID  Original Score  Evaluated Score\n",
       "0  20190808014              17               20\n",
       "1  20190808021              18               20\n",
       "2  20190808035              11               18\n",
       "3  20200808003               0                0\n",
       "4  20200808008              17               20"
      ]
     },
     "execution_count": 16,
     "metadata": {},
     "output_type": "execute_result"
    }
   ],
   "source": [
    "# \"Q-2\" sayfasındaki öğrenci cevaplarını değerlendir ve puanları hesapla (maksimum 20 puanla sınırlı)\n",
    "evaluated_scores_q2 = evaluate_answers_max_20(q2_data['Answer'], plus_keyword_points_q2)\n",
    "\n",
    "# Öğrenci numarası, orijinal skor, ve yapılan değerlendirme sonuçlarını içeren bir DataFrame oluşturma\n",
    "results_df_q2 = pd.DataFrame({\n",
    "    \"StudentID\": q2_data['StudentID'],\n",
    "    \"Original Score\": q2_data['Score'],\n",
    "    \"Evaluated Score\": evaluated_scores_q2\n",
    "})\n",
    "\n",
    "results_df_q2.head()\n"
   ]
  },
  {
   "cell_type": "code",
   "execution_count": 17,
   "metadata": {},
   "outputs": [
    {
     "name": "stdout",
     "output_type": "stream",
     "text": [
      "Correlation between Original Score and Evaluated Score for Q-2: 0.9370565969785662\n"
     ]
    },
    {
     "data": {
      "image/png": "[encoded data removed]",
      "text/plain": [
       "<Figure size 800x600 with 2 Axes>"
      ]
     },
     "metadata": {},
     "output_type": "display_data"
    }
   ],
   "source": [
    "# \"Q-2\" için Original Score ve Evaluated Score arasındaki korelasyonu hesaplama\n",
    "correlation_q2 = results_df_q2['Original Score'].corr(results_df_q2['Evaluated Score'])\n",
    "\n",
    "# Korelasyonu göster\n",
    "print(f\"Correlation between Original Score and Evaluated Score for Q-2: {correlation_q2}\")\n",
    "\n",
    "# \"Q-2\" için kategorilere ayırma ve confusion matrisi hesaplama\n",
    "results_df_q2['Original Category'] = categorize_scores(results_df_q2['Original Score'])\n",
    "results_df_q2['Evaluated Category'] = categorize_scores(results_df_q2['Evaluated Score'])\n",
    "\n",
    "# Kategori sayısal değerlere dönüştürme için LabelEncoder kullanma\n",
    "results_df_q2['Original Category Encoded'] = le.fit_transform(results_df_q2['Original Category'])\n",
    "results_df_q2['Evaluated Category Encoded'] = le.transform(results_df_q2['Evaluated Category'])\n",
    "\n",
    "# Confusion matrisi hesaplama\n",
    "cm_q2 = confusion_matrix(results_df_q2['Original Category Encoded'], results_df_q2['Evaluated Category Encoded'])\n",
    "\n",
    "# Confusion matrisini görselleştirme\n",
    "plt.figure(figsize=(8, 6))\n",
    "sns.heatmap(cm_q2, annot=True, fmt=\"d\", cmap=\"Blues\", xticklabels=le.classes_, yticklabels=le.classes_)\n",
    "plt.xlabel('Evaluated Category')\n",
    "plt.ylabel('Original Category')\n",
    "plt.title('Confusion Matrix for Q-2')\n",
    "plt.show()\n"
   ]
  },
  {
   "cell_type": "code",
   "execution_count": 18,
   "metadata": {},
   "outputs": [
    {
     "data": {
      "text/plain": [
       "{('innoc&&guilty&&prove', 'guilty:6'): 8,\n",
       " ('jury', 'trail', 'juri', 'judge', 'court'): 8,\n",
       " ('precedent',\n",
       "  'prev&&judg',\n",
       "  'prev&&case',\n",
       "  '12&&table',\n",
       "  'twelve&&table',\n",
       "  'lawyer'): 8,\n",
       " ('consul', 'assemb', 'senat'): -5,\n",
       " ('conflict&&interest',): -5}"
      ]
     },
     "execution_count": 18,
     "metadata": {},
     "output_type": "execute_result"
    }
   ],
   "source": [
    "# Artı ve eksi anahtar kelimeler için sözlük yapıları\n",
    "pluskeywords_q3 = [\n",
    "    ['innoc&&guilty&&prove','guilty:6'],\n",
    "    ['jury','trail','juri','judge','court'],\n",
    "    ['precedent','prev&&judg','prev&&case','12&&table','twelve&&table','lawyer']\n",
    "]\n",
    "pluspoints_q3 = [8, 8, 8]\n",
    "\n",
    "minuskeywords_q3 = [\n",
    "    ['consul','assemb','senat'],\n",
    "    ['conflict&&interest']\n",
    "]\n",
    "minuspoints_q3 = [5, 5]\n",
    "\n",
    "# Artı puanlar için anahtar kelime gruplarını ve puanlarını birleştiren sözlük\n",
    "plus_keyword_points_q3 = {tuple(group): point for group, point in zip(pluskeywords_q3, pluspoints_q3)}\n",
    "\n",
    "# Eksi puanlar için anahtar kelime gruplarını ve puanlarını birleştiren sözlük\n",
    "minus_keyword_points_q3 = {tuple(group): -point for group, point in zip(minuskeywords_q3, minuspoints_q3)}\n",
    "\n",
    "# Artı ve eksi puanları birleştiren genel sözlük yapısı\n",
    "keywords_points_q3 = {**plus_keyword_points_q3, **minus_keyword_points_q3}\n",
    "\n",
    "keywords_points_q3\n"
   ]
  },
  {
   "cell_type": "code",
   "execution_count": 21,
   "metadata": {},
   "outputs": [
    {
     "data": {
      "text/plain": [
       "(0.8654347362598629,\n",
       " array([[41,  7,  3],\n",
       "        [ 0, 76,  1],\n",
       "        [ 1,  4,  0]]))"
      ]
     },
     "execution_count": 21,
     "metadata": {},
     "output_type": "execute_result"
    }
   ],
   "source": [
    "# \"Q-3\" sayfasındaki verileri yükleyelim\n",
    "q3_data = pd.read_excel(excel_path, sheet_name='Q-3')\n",
    "\n",
    "# Artı ve eksi puanlamaları dikkate alarak cevapları değerlendirme ve puanlama fonksiyonu\n",
    "def evaluate_answers_with_minus(answers, keywords_points):\n",
    "    evaluated_scores_with_minus = []  # Hesaplanan puanların saklandığı liste\n",
    "    \n",
    "    # Her bir cevabı dolaş\n",
    "    for answer in answers:\n",
    "        # Cevabı string olarak garanti altına al\n",
    "        answer_str = str(answer)\n",
    "        total_score = 0  # Her bir cevap için toplam puan\n",
    "        \n",
    "        # Anahtar kelime gruplarını ve puanlarını dolaş\n",
    "        for keywords, points in keywords_points.items():\n",
    "            # Her bir anahtar kelime grubu için cevapta arama yap\n",
    "            for keyword in keywords:\n",
    "                if '||' in keyword or '&&' in keyword or ':' in keyword:\n",
    "                    # Özel durumlar için regex kullanarak eşleşme kontrolü\n",
    "                    if check_match(answer_str, keyword):\n",
    "                        total_score += points\n",
    "                else:\n",
    "                    # Basit kelime araması\n",
    "                    if re.search(keyword, answer_str, re.IGNORECASE):\n",
    "                        total_score += points\n",
    "        \n",
    "        # Toplam puanı 20 ile sınırlandır ve eksi puanları uygula\n",
    "        total_score = max(min(total_score, 20), 0)\n",
    "        evaluated_scores_with_minus.append(total_score)\n",
    "    \n",
    "    return evaluated_scores_with_minus\n",
    "\n",
    "# Özel durumlar için eşleşme kontrol fonksiyonu\n",
    "def check_match(answer, keyword):\n",
    "    if '||' in keyword:\n",
    "        return any(re.search(part, answer, re.IGNORECASE) for part in keyword.split('||'))\n",
    "    elif '&&' in keyword:\n",
    "        return all(re.search(part, answer, re.IGNORECASE) for part in keyword.split('&&'))\n",
    "    elif ':' in keyword:\n",
    "        word, count = keyword.split(':')\n",
    "        return len(re.findall(word, answer, re.IGNORECASE)) >= int(count)\n",
    "    return False\n",
    "\n",
    "# \"Q-3\" sayfasındaki öğrenci cevaplarını değerlendir ve puanları hesapla\n",
    "evaluated_scores_q3 = evaluate_answers_with_minus(q3_data['Answer'], keywords_points_q3)\n",
    "\n",
    "# Öğrenci numarası, orijinal skor, ve yapılan değerlendirme sonuçlarını içeren bir DataFrame oluşturma\n",
    "results_df_q3 = pd.DataFrame({\n",
    "    \"StudentID\": q3_data['StudentID'],\n",
    "    \"Original Score\": q3_data['Score'],\n",
    "    \"Evaluated Score\": evaluated_scores_q3\n",
    "})\n",
    "\n",
    "# Korelasyon ve confusion matrisi için hazırlık\n",
    "results_df_q3['Original Category'] = categorize_scores(results_df_q3['Original Score'])\n",
    "results_df_q3['Evaluated Category'] = categorize_scores(results_df_q3['Evaluated Score'])\n",
    "results_df_q3['Original Category Encoded'] = le.fit_transform(results_df_q3['Original Category'])\n",
    "results_df_q3['Evaluated Category Encoded'] = le.transform(results_df_q3['Evaluated Category'])\n",
    "\n",
    "# Korelasyon hesaplama\n",
    "correlation_q3 = results_df_q3['Original Score'].corr(results_df_q3['Evaluated Score'])\n",
    "\n",
    "# Confusion matrisi hesaplama\n",
    "cm_q3 = confusion_matrix(results_df_q3['Original Category Encoded'], results_df_q3['Evaluated Category Encoded'])\n",
    "\n",
    "# Sonuçları göster\n",
    "correlation_q3, cm_q3\n",
    "\n"
   ]
  },
  {
   "cell_type": "code",
   "execution_count": 22,
   "metadata": {},
   "outputs": [
    {
     "data": {
      "image/png": "[encoded data removed]",
      "text/plain": [
       "<Figure size 800x600 with 2 Axes>"
      ]
     },
     "metadata": {},
     "output_type": "display_data"
    }
   ],
   "source": [
    "# Confusion matrisini görselleştirme\n",
    "plt.figure(figsize=(8, 6))\n",
    "sns.heatmap(cm_q3, annot=True, fmt=\"d\", cmap=\"Blues\", xticklabels=le.classes_, yticklabels=le.classes_)\n",
    "plt.xlabel('Evaluated Category')\n",
    "plt.ylabel('Original Category')\n",
    "plt.title('Confusion Matrix for Q-3')\n",
    "plt.show()"
   ]
  },
  {
   "cell_type": "code",
   "execution_count": 23,
   "metadata": {},
   "outputs": [
    {
     "data": {
      "text/plain": [
       "(0.9436145173220843,\n",
       " array([[35,  0,  0],\n",
       "        [ 7, 90,  0],\n",
       "        [ 1,  0,  0]]))"
      ]
     },
     "execution_count": 23,
     "metadata": {},
     "output_type": "execute_result"
    }
   ],
   "source": [
    "# Q-4 için anahtar kelimeler ve puanlar\n",
    "pluskeywords_q4 = [\n",
    "    ['shadow&&angle','shadow&&degree','shadow&&stick','perimeter:6','circum:6'],\n",
    "    ['eclips','arist','coin','appear','disappear','ratio'],\n",
    "    ['euclid','thales','pythag','project']\n",
    "]\n",
    "pluspoints_q4 = [8, 8, 8]\n",
    "\n",
    "# Anahtar kelimeleri ve puanları birleştiren sözlük\n",
    "plus_keyword_points_q4 = {tuple(group): point for group, point in zip(pluskeywords_q4, pluspoints_q4)}\n",
    "\n",
    "# \"Q-4\" sayfasındaki verileri yükleyelim\n",
    "q4_data = pd.read_excel(excel_path, sheet_name='Q-4')\n",
    "\n",
    "# \"Q-4\" sayfasındaki öğrenci cevaplarını değerlendir ve puanları hesapla\n",
    "evaluated_scores_q4 = evaluate_answers_with_minus(q4_data['Answer'], plus_keyword_points_q4)\n",
    "\n",
    "# Öğrenci numarası, orijinal skor, ve yapılan değerlendirme sonuçlarını içeren bir DataFrame oluşturma\n",
    "results_df_q4 = pd.DataFrame({\n",
    "    \"StudentID\": q4_data['StudentID'],\n",
    "    \"Original Score\": q4_data['Score'],\n",
    "    \"Evaluated Score\": evaluated_scores_q4\n",
    "})\n",
    "\n",
    "# Korelasyon ve confusion matrisi için hazırlık\n",
    "results_df_q4['Original Category'] = categorize_scores(results_df_q4['Original Score'])\n",
    "results_df_q4['Evaluated Category'] = categorize_scores(results_df_q4['Evaluated Score'])\n",
    "results_df_q4['Original Category Encoded'] = le.fit_transform(results_df_q4['Original Category'])\n",
    "results_df_q4['Evaluated Category Encoded'] = le.transform(results_df_q4['Evaluated Category'])\n",
    "\n",
    "# Korelasyon hesaplama\n",
    "correlation_q4 = results_df_q4['Original Score'].corr(results_df_q4['Evaluated Score'])\n",
    "\n",
    "# Confusion matrisi hesaplama\n",
    "cm_q4 = confusion_matrix(results_df_q4['Original Category Encoded'], results_df_q4['Evaluated Category Encoded'])\n",
    "\n",
    "# Sonuçları göster\n",
    "correlation_q4, cm_q4\n"
   ]
  },
  {
   "cell_type": "code",
   "execution_count": 24,
   "metadata": {},
   "outputs": [
    {
     "data": {
      "image/png": "[encoded data removed]",
      "text/plain": [
       "<Figure size 800x600 with 2 Axes>"
      ]
     },
     "metadata": {},
     "output_type": "display_data"
    }
   ],
   "source": [
    "# Confusion matrisini görselleştirme\n",
    "plt.figure(figsize=(8, 6))\n",
    "sns.heatmap(cm_q4, annot=True, fmt=\"d\", cmap=\"Blues\", xticklabels=le.classes_, yticklabels=le.classes_)\n",
    "plt.xlabel('Evaluated Category')\n",
    "plt.ylabel('Original Category')\n",
    "plt.title('Confusion Matrix for Q-4')\n",
    "plt.show()\n"
   ]
  },
  {
   "cell_type": "code",
   "execution_count": 25,
   "metadata": {},
   "outputs": [
    {
     "data": {
      "text/plain": [
       "(0.9113566356053083,\n",
       " array([[  5,   0],\n",
       "        [ 15, 113]]))"
      ]
     },
     "execution_count": 25,
     "metadata": {},
     "output_type": "execute_result"
    }
   ],
   "source": [
    "# Q-5 için anahtar kelimeler ve puanlar\n",
    "pluskeywords_q5 = [\n",
    "    ['withdraw', 'pull', 'reject', 'disprove', 'check', 'control', 'reevaluate', 'mistake', 'accept', 'antithesis', 'anti&&thes', 'analy:5'],\n",
    "    ['propose&&new', 'revise', 'modify', 'change', 'rearrange', 'update', 'alternative', 'new&&hypot']\n",
    "]\n",
    "pluspoints_q5 = [10, 10]\n",
    "\n",
    "# Anahtar kelimeleri ve puanları birleştiren sözlük\n",
    "plus_keyword_points_q5 = {tuple(group): point for group, point in zip(pluskeywords_q5, pluspoints_q5)}\n",
    "\n",
    "# \"Q-5\" sayfasındaki verileri yükleyelim\n",
    "q5_data = pd.read_excel(excel_path, sheet_name='Q-5')\n",
    "\n",
    "# \"Q-5\" sayfasındaki öğrenci cevaplarını değerlendir ve puanları hesapla\n",
    "evaluated_scores_q5 = evaluate_answers_with_minus(q5_data['Answer'], plus_keyword_points_q5)\n",
    "\n",
    "# Öğrenci numarası, orijinal skor, ve yapılan değerlendirme sonuçlarını içeren bir DataFrame oluşturma\n",
    "results_df_q5 = pd.DataFrame({\n",
    "    \"StudentID\": q5_data['StudentID'],\n",
    "    \"Original Score\": q5_data['Score'],\n",
    "    \"Evaluated Score\": evaluated_scores_q5\n",
    "})\n",
    "\n",
    "# Korelasyon ve confusion matrisi için hazırlık\n",
    "results_df_q5['Original Category'] = categorize_scores(results_df_q5['Original Score'])\n",
    "results_df_q5['Evaluated Category'] = categorize_scores(results_df_q5['Evaluated Score'])\n",
    "results_df_q5['Original Category Encoded'] = le.fit_transform(results_df_q5['Original Category'])\n",
    "results_df_q5['Evaluated Category Encoded'] = le.transform(results_df_q5['Evaluated Category'])\n",
    "\n",
    "# Korelasyon hesaplama ve confusion matrisi oluşturma işlemlerini gerçekleştirelim.\n",
    "correlation_q5 = results_df_q5['Original Score'].corr(results_df_q5['Evaluated Score'])\n",
    "cm_q5 = confusion_matrix(results_df_q5['Original Category Encoded'], results_df_q5['Evaluated Category Encoded'])\n",
    "\n",
    "correlation_q5, cm_q5\n"
   ]
  },
  {
   "cell_type": "code",
   "execution_count": 26,
   "metadata": {},
   "outputs": [
    {
     "data": {
      "image/png": "[encoded data removed]",
      "text/plain": [
       "<Figure size 800x600 with 2 Axes>"
      ]
     },
     "metadata": {},
     "output_type": "display_data"
    }
   ],
   "source": [
    "# Confusion matrisini görselleştirme\n",
    "plt.figure(figsize=(8, 6))\n",
    "sns.heatmap(cm_q5, annot=True, fmt=\"d\", cmap=\"Blues\", xticklabels=le.classes_, yticklabels=le.classes_)\n",
    "plt.xlabel('Evaluated Category')\n",
    "plt.ylabel('Original Category')\n",
    "plt.title('Confusion Matrix for Q-5')\n",
    "plt.show()\n"
   ]
  },
  {
   "cell_type": "code",
   "execution_count": 28,
   "metadata": {},
   "outputs": [
    {
     "data": {
      "text/html": [
       "<div>\n",
       "<style scoped>\n",
       "    .dataframe tbody tr th:only-of-type {\n",
       "        vertical-align: middle;\n",
       "    }\n",
       "\n",
       "    .dataframe tbody tr th {\n",
       "        vertical-align: top;\n",
       "    }\n",
       "\n",
       "    .dataframe thead th {\n",
       "        text-align: right;\n",
       "    }\n",
       "</style>\n",
       "<table border=\"1\" class=\"dataframe\">\n",
       "  <thead>\n",
       "    <tr style=\"text-align: right;\">\n",
       "      <th></th>\n",
       "      <th>StudentID</th>\n",
       "      <th>Total_Original_Score</th>\n",
       "      <th>Total_Evaluated_Score</th>\n",
       "    </tr>\n",
       "  </thead>\n",
       "  <tbody>\n",
       "    <tr>\n",
       "      <th>0</th>\n",
       "      <td>20190808014</td>\n",
       "      <td>75</td>\n",
       "      <td>78</td>\n",
       "    </tr>\n",
       "    <tr>\n",
       "      <th>1</th>\n",
       "      <td>20190808021</td>\n",
       "      <td>78</td>\n",
       "      <td>84</td>\n",
       "    </tr>\n",
       "    <tr>\n",
       "      <th>2</th>\n",
       "      <td>20190808035</td>\n",
       "      <td>33</td>\n",
       "      <td>40</td>\n",
       "    </tr>\n",
       "    <tr>\n",
       "      <th>3</th>\n",
       "      <td>20200808003</td>\n",
       "      <td>34</td>\n",
       "      <td>40</td>\n",
       "    </tr>\n",
       "    <tr>\n",
       "      <th>4</th>\n",
       "      <td>20200808008</td>\n",
       "      <td>81</td>\n",
       "      <td>96</td>\n",
       "    </tr>\n",
       "    <tr>\n",
       "      <th>...</th>\n",
       "      <td>...</td>\n",
       "      <td>...</td>\n",
       "      <td>...</td>\n",
       "    </tr>\n",
       "    <tr>\n",
       "      <th>128</th>\n",
       "      <td>20230808615</td>\n",
       "      <td>70</td>\n",
       "      <td>74</td>\n",
       "    </tr>\n",
       "    <tr>\n",
       "      <th>129</th>\n",
       "      <td>20230808617</td>\n",
       "      <td>55</td>\n",
       "      <td>55</td>\n",
       "    </tr>\n",
       "    <tr>\n",
       "      <th>130</th>\n",
       "      <td>20230808618</td>\n",
       "      <td>54</td>\n",
       "      <td>66</td>\n",
       "    </tr>\n",
       "    <tr>\n",
       "      <th>131</th>\n",
       "      <td>20230808621</td>\n",
       "      <td>66</td>\n",
       "      <td>72</td>\n",
       "    </tr>\n",
       "    <tr>\n",
       "      <th>132</th>\n",
       "      <td>20230808623</td>\n",
       "      <td>73</td>\n",
       "      <td>92</td>\n",
       "    </tr>\n",
       "  </tbody>\n",
       "</table>\n",
       "<p>133 rows × 3 columns</p>\n",
       "</div>"
      ],
      "text/plain": [
       "       StudentID  Total_Original_Score  Total_Evaluated_Score\n",
       "0    20190808014                    75                     78\n",
       "1    20190808021                    78                     84\n",
       "2    20190808035                    33                     40\n",
       "3    20200808003                    34                     40\n",
       "4    20200808008                    81                     96\n",
       "..           ...                   ...                    ...\n",
       "128  20230808615                    70                     74\n",
       "129  20230808617                    55                     55\n",
       "130  20230808618                    54                     66\n",
       "131  20230808621                    66                     72\n",
       "132  20230808623                    73                     92\n",
       "\n",
       "[133 rows x 3 columns]"
      ]
     },
     "execution_count": 28,
     "metadata": {},
     "output_type": "execute_result"
    }
   ],
   "source": [
    "# Beş DataFrame'i birleştirme ve yeni bir DataFrame oluşturma\n",
    "all_results_df = pd.concat([results_df, results_df_q2, results_df_q3, results_df_q4, results_df_q5])\n",
    "\n",
    "# Öğrenci numarasına göre gruplama ve toplam orijinal skor ile toplam değerlendirilmiş skoru hesaplama\n",
    "total_scores_df = all_results_df.groupby('StudentID').agg(\n",
    "    Total_Original_Score=('Original Score', 'sum'),\n",
    "    Total_Evaluated_Score=('Evaluated Score', 'sum')\n",
    ").reset_index()\n",
    "\n",
    "total_scores_df\n"
   ]
  },
  {
   "cell_type": "code",
   "execution_count": 29,
   "metadata": {},
   "outputs": [
    {
     "data": {
      "image/png": "[encoded data removed]",
      "text/plain": [
       "<Figure size 800x600 with 2 Axes>"
      ]
     },
     "metadata": {},
     "output_type": "display_data"
    }
   ],
   "source": [
    "# Toplam skorların kategorilere ayrılmasını ve kodlanmasını tekrar kontrol etme\n",
    "# Kategorilere ayrılma işlemi tekrar yapılıyor\n",
    "total_scores_df['Total Original Category'] = pd.cut(total_scores_df['Total_Original_Score'], bins=[0, 50, 75, 100], labels=['Low', 'Medium', 'High'], include_lowest=True)\n",
    "total_scores_df['Total Evaluated Category'] = pd.cut(total_scores_df['Total_Evaluated_Score'], bins=[0, 50, 75, 100], labels=['Low', 'Medium', 'High'], include_lowest=True)\n",
    "\n",
    "# Kategori sayısal değerlere dönüştürme işlemi tekrar yapılıyor\n",
    "total_scores_df['Total Original Category Encoded'] = le.fit_transform(total_scores_df['Total Original Category'].astype(str))\n",
    "total_scores_df['Total Evaluated Category Encoded'] = le.transform(total_scores_df['Total Evaluated Category'].astype(str))\n",
    "\n",
    "# Confusion matrisi tekrar hesaplanıyor\n",
    "cm_total_updated = confusion_matrix(total_scores_df['Total Original Category Encoded'], total_scores_df['Total Evaluated Category Encoded'])\n",
    "\n",
    "# Confusion matrisini tekrar görselleştirme\n",
    "plt.figure(figsize=(8, 6))\n",
    "sns.heatmap(cm_total_updated, annot=True, fmt=\"d\", cmap=\"Blues\", xticklabels=le.classes_, yticklabels=le.classes_)\n",
    "plt.xlabel('Total Evaluated Category')\n",
    "plt.ylabel('Total Original Category')\n",
    "plt.title('Updated Total Confusion Matrix')\n",
    "plt.show()\n"
   ]
  },
  {
   "cell_type": "code",
   "execution_count": 30,
   "metadata": {},
   "outputs": [
    {
     "data": {
      "text/plain": [
       "0.9579073771110996"
      ]
     },
     "execution_count": 30,
     "metadata": {},
     "output_type": "execute_result"
    }
   ],
   "source": [
    "# Güncellenmiş korelasyonu hesaplama\n",
    "total_correlation_updated = total_scores_df['Total_Original_Score'].corr(total_scores_df['Total_Evaluated_Score'])\n",
    "\n",
    "total_correlation_updated\n"
   ]
  }
 ],
 "metadata": {
  "kernelspec": {
   "display_name": "base",
   "language": "python",
   "name": "python3"
  },
  "language_info": {
   "codemirror_mode": {
    "name": "ipython",
    "version": 3
   },
   "file_extension": ".py",
   "mimetype": "text/x-python",
   "name": "python",
   "nbconvert_exporter": "python",
   "pygments_lexer": "ipython3",
   "version": "3.11.3"
  }
 },
 "nbformat": 4,
 "nbformat_minor": 2
}
