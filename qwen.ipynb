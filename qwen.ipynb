{
 "cells": [
  {
   "cell_type": "code",
   "execution_count": null,
   "metadata": {},
   "outputs": [
    {
     "name": "stdout",
     "output_type": "stream",
     "text": [
      "Değerlendirme başlıyor...\n"
     ]
    },
    {
     "name": "stderr",
     "output_type": "stream",
     "text": [
      "  3%|▎         | 3/88 [00:13<05:38,  3.98s/it]"
     ]
    },
    {
     "name": "stdout",
     "output_type": "stream",
     "text": [
      "Hata: could not convert string to float: '16\\n\\nİki cevap arasındaki benzerlik şu noktaları içeriyor:\\n\\n1. Hem cevap hem de doğru cevapta kimyasal bileşimi aynı olan maddelerin varlığı vurgulanıyor.\\n2. Farkların moleküler yapının farklı olmasıyla açıklanması öneriliyor.\\n\\nFarklılıklar ise şu şekilde:\\n\\n- Doğru cevap daha geniş bir kapsamda (isomerizm) ve çeşitli faktörler (atom düzeni, uzay konforu, bağlamalar) üzerinde duruyor.\\n- Öğrenci cevabı daha spesifik olarak allotropleri (diamant ve grafit) örneklendirdi.\\n\\nBu nedenle, iki yanıtın temel fikirlerini paylaştığı için 16 puan verilmiştir.'\n"
     ]
    },
    {
     "name": "stderr",
     "output_type": "stream",
     "text": [
      "  5%|▍         | 4/88 [00:16<04:48,  3.43s/it]"
     ]
    },
    {
     "name": "stdout",
     "output_type": "stream",
     "text": [
      "Hata: could not convert string to float: '12\\n\\nÖğrenci cevabı, doğru cevaba tam olarak uymuyor ve bazı kavramsal hatalar var. Öğrencinin yazdığı \"this name is izonom or isonome\" ifadesi doğru bir terim tanımlaması değil ve \"isomerism\" kelimesini de kullanmıyor. Ancak, genel fikir olan farklı moleküler yapıların fiziksel özellikler üzerinde etkisi olmaya çalıştığı için puanı 12 olarak belirledim.'\n"
     ]
    },
    {
     "name": "stderr",
     "output_type": "stream",
     "text": [
      "  6%|▌         | 5/88 [00:18<04:23,  3.17s/it]"
     ]
    },
    {
     "name": "stdout",
     "output_type": "stream",
     "text": [
      "Hata: could not convert string to float: '12\\n\\nÖğrenci cevabı, doğru cevaba tamamen yakındır ve temel fikirleri içeriyor, ancak bazı kesinlikler ve teknik terimler eksik. Doğru cevap ise bu fikirleri daha detaylı ve belirgin bir şekilde açıkladı. Öğrencinin cevabı \"isomerism\" kelimesini kullanmadığı ve bazı önemli terimleri (molecular structure, atom arrangement, spatial configuration, bonding patterns) eksik bıraktığı için puanı azalttık.'\n"
     ]
    },
    {
     "name": "stderr",
     "output_type": "stream",
     "text": [
      "  7%|▋         | 6/88 [00:23<05:16,  3.86s/it]"
     ]
    },
    {
     "name": "stdout",
     "output_type": "stream",
     "text": [
      "Hata: could not convert string to float: '12\\n\\nBu cevaplar arasındaki benzerlik şu noktaları içeriyor:\\n\\n1. Her iki yanıt da aynı temel fikri ifade ediyor: Aynı kimyasal bileşimi olmasına rağmen fiziksel özellikler farklı olan maddelerin varlığı.\\n2. Fiziksel özelliklerin farklı olması konusunda bahsediliyor.\\n\\nFarklılıklar ise şu şekilde:\\n\\n1. Doğru cevap, bu farklılıkları daha detaylı ve bilimsel bir şekilde açıklıyor (moleküler yapının değişimi, atom düzeni, uzayelastik yapı, bağ tipleri gibi).\\n2. Öğrenci cevabı, bu fikirleri tam olarak ifade etmedi ve \"bağ\" kelimesini doğru kullanmadı.\\n3. Doğru cevap, farklılıkların fiziksel özelliklere nasıl etki yaptığını daha açıkça belirtiyor (arayüz güçlerinin, polariyete vb.).\\n\\nBu nedenle, puan 12 olarak değerlendirilebilir.'\n"
     ]
    },
    {
     "name": "stderr",
     "output_type": "stream",
     "text": [
      "  9%|▉         | 8/88 [00:26<03:10,  2.38s/it]"
     ]
    },
    {
     "name": "stdout",
     "output_type": "stream",
     "text": [
      "Hata: could not convert string to float: '4\\n\\nBu cevaplar genel konuyla ilgisi varken, detay ve doğruluk açısından oldukça farklıdır. Öğrenci cevabı, hava durumu ve sıcaklık ile fenikli genetikler arasındaki ilişkiyi ele alırken, doğru cevap ise kimyasal bileşimi aynı olan ama fiziksel özellikler farklı olan kompoundların (izomerlerin) varlığına odaklanmaktadır. Bu nedenle benzerlik derecesi düşük olabilir.'\n"
     ]
    },
    {
     "name": "stderr",
     "output_type": "stream",
     "text": [
      " 10%|█         | 9/88 [00:28<03:05,  2.35s/it]"
     ]
    },
    {
     "name": "stdout",
     "output_type": "stream",
     "text": [
      "Hata: could not convert string to float: '10\\n\\nİki cevap arasındaki benzerlik şu şekilde özetlenebilir: Her ikisi de allotropizmin (bir maddesinin farklı moleküler yapıları neden olduğu fiziksel özelliklerin değişimi) konusunu ele alıyor ve bu durumu benzer örneklerle açıklıyor. Ancak doğru cevap daha geniş bir perspektiften ve daha detaylı bilgi veriyor, bu yüzden puan daha düşük olabilir.'\n"
     ]
    },
    {
     "name": "stderr",
     "output_type": "stream",
     "text": [
      " 12%|█▎        | 11/88 [00:30<01:59,  1.55s/it]"
     ]
    },
    {
     "name": "stdout",
     "output_type": "stream",
     "text": [
      "Hata: could not convert string to float: '12\\n\\nBu cevaplar arasındaki benzerlik, iki cümlenin temel fikri olan moleküllerin kimyasal bileşimi aynı olmasına rağmen fiziksel özelliklerinin farklı olması konusundan kaynaklanmaktadır. Ancak doğru cevap daha ayrıntılı ve teknik bir açıklama içerdiği için puan daha düşük.'\n"
     ]
    },
    {
     "name": "stderr",
     "output_type": "stream",
     "text": [
      " 15%|█▍        | 13/88 [00:33<01:47,  1.44s/it]"
     ]
    },
    {
     "name": "stdout",
     "output_type": "stream",
     "text": [
      "Hata: could not convert string to float: '4\\n\\nBu cevaplar arasındaki benzerlik sadece küçük bir parçada bulunuyor: ikisi de farklı moleküler yapılar nedeniyle fiziksel özelliklerde değişiklikleri bahsetmektedir. Ancak doğru cevap daha kapsamlı ve net bir açıklama yapmaktadır, örneğin izotoplar hakkında bilgi verilmedi ve isomerizmin tam olarak ne olduğu açıklanmıştır.'\n"
     ]
    },
    {
     "name": "stderr",
     "output_type": "stream",
     "text": [
      " 16%|█▌        | 14/88 [00:35<01:57,  1.59s/it]"
     ]
    },
    {
     "name": "stdout",
     "output_type": "stream",
     "text": [
      "Hata: could not convert string to float: '0\\n\\nÖğrenci cevabı genetik kavramlarına odaklanırken, doğru cevap ise izomermizmi (isomerism) ve kimyasal bileşimi aynı olmasına rağmen fiziksel özelliklerde farklılıkların nedenleri hakkında bilgi veriyor. Bu iki cevap arasında semantik benzerlik bulunmamaktadır.'\n"
     ]
    },
    {
     "name": "stderr",
     "output_type": "stream",
     "text": [
      " 17%|█▋        | 15/88 [00:38<02:45,  2.26s/it]"
     ]
    },
    {
     "name": "stdout",
     "output_type": "stream",
     "text": [
      "Hata: could not convert string to float: '10\\n\\nİki cevap arasında benzerlik var çünkü hem öğrenci cevabı hem de doğru cevap farklı moleküsel yapılar nedeniyle aynı kimyasal bileşimi olan bireylerin fiziksel özelliklerinin farklı olması konusunda bahsediyor. Ancak, doğru cevap daha spesifik ve detaylı olup, isomerizmin çeşitli moleküler yapılarda (atom düzeni, uzay yapılandırma veya bağlamalar) neden olduğu etkilere odaklanıyor. Öğrenci cevabı ise lavosyerin deneylerini ve allotropların tanımını anlatıyor, ancak isomerizmeye tam olarak ulaşmadı. Bu nedenle, puan 10 olarak değerlendirilebilir.'\n"
     ]
    },
    {
     "name": "stderr",
     "output_type": "stream",
     "text": [
      " 19%|█▉        | 17/88 [00:41<02:03,  1.75s/it]"
     ]
    },
    {
     "name": "stdout",
     "output_type": "stream",
     "text": [
      "Hata: could not convert string to float: '14\\n\\nBu cevaplar, aynı temel fikirleri içeriyor: farklı fiziksel özelliklere sahip ayni kimyasal bileşimi olan bileşenlerin varlığı. Ancak doğru cevap daha detaylı ve uzun bir açıklama yaparak bu fikri destekliyor. Öğrenci cevabı ise kısa ve genel bir şekilde bu fikirleri ifade ediyor, bazı önemli terimler eksik. Bu nedenle, benzerlik derecesi orta seviyede olarak değerlendirildi.'\n"
     ]
    },
    {
     "name": "stderr",
     "output_type": "stream",
     "text": [
      " 23%|██▎       | 20/88 [00:43<01:09,  1.02s/it]"
     ]
    },
    {
     "name": "stdout",
     "output_type": "stream",
     "text": [
      "Hata: could not convert string to float: '12\\n\\nBu cevaplar arasında benzerlik var çünkü her iki yanıt da moleküllerin fiziksel özelliklerini etkileyen faktörleri ele alıyor. Ancak doğru cevap daha kapsamlı ve spesifik olanı (izomerizm) belirtiyor, bu nedenle puan daha düşük.'\n"
     ]
    },
    {
     "name": "stderr",
     "output_type": "stream",
     "text": [
      " 24%|██▍       | 21/88 [00:49<02:33,  2.29s/it]"
     ]
    },
    {
     "name": "stdout",
     "output_type": "stream",
     "text": [
      "Hata: could not convert string to float: '14\\n\\nBu cevaplar arasındaki benzerlik şu noktaları içeriyor:\\n\\n1. Her iki yanıt da farklı moleküler yapıların varlığına atıfta bulunmaktadır.\\n2. Her ikisi de aynı elementlerle meydana gelen, ancak fiziksel özellikler bakımından farklı nesnelerin var olduğunu belirtmektedir.\\n\\nFarklılıklar ise şu şekildedir:\\n\\n1. Doğru cevap daha detaylı ve uzun bir açıklama sunmaktadır.\\n2. Doğru cevap \"isomerism\" terimi kullanırken, öğrenci cevabı \"allotrophism\" terimi kullanmıştır.\\n3. Doğru cevap farklı moleküler yapıların neden olduğu fiziksel özelliklerin değişimi konusunda daha geniş bir açıklama yapmaktadır (arasal konfigürasyonu, bağlamaları gibi).\\n4. Doğru cevap \"isomerism\" teriminin ne anlama geldiğini ve bu durumun nasıl oluştuğu hakkında daha fazla bilgi vermektedir.'\n"
     ]
    },
    {
     "name": "stderr",
     "output_type": "stream",
     "text": [
      " 25%|██▌       | 22/88 [00:54<03:30,  3.18s/it]"
     ]
    },
    {
     "name": "stdout",
     "output_type": "stream",
     "text": [
      "Hata: could not convert string to float: '12\\n\\nBu cevaplar arasındaki benzerlik şu noktaları içeriyor:\\n\\n1. Her iki yanıt da aynı kimyasal bileşimi olan farklı fiziksel özelliklere sahip nesnelerin varlığını belirtiyor.\\n2. Fiziksel özelliklerin farklı olması konusunda bahsediliyor.\\n\\nFarklı noktalar ise şu şekilde:\\n\\n1. Doğru cevap daha detaylı ve uzun bir açıklama sunuyor, örneğin izomerizmi ve moleküler yapının etkilerini belirtiyor.\\n2. Öğrenci cevabı \"allotropes\" kelimesini kullanıyor ancak bu kelime doğru yanıtta yer almamaktadır.\\n3. Doğru cevap daha geniş bir kavram olan izomerizmi öne çıkardıken, öğrenci cevabı sadece allotrope örneklerine odaklandı.\\n\\nBu nedenle, iki yanının semantik benzerlik derecesi 12 olarak değerlendirilebilir.'\n"
     ]
    },
    {
     "name": "stderr",
     "output_type": "stream",
     "text": [
      " 27%|██▋       | 24/88 [00:57<02:27,  2.31s/it]"
     ]
    },
    {
     "name": "stdout",
     "output_type": "stream",
     "text": [
      "Hata: could not convert string to float: '12\\n\\nBu cevaplar arasındaki benzerlik şu noktaları içeriyor:\\n\\n- Her iki yanıt da moleküllerin fiziksel özelliklerini etkileyen faktörleri ele alıyor.\\n- \"Allotropism\" terimi kullanılıyor, ancak doğru cevap daha detaylı ve geniş bir açıklamaya sahip.\\n\\nFarklar ise şu şekilde:\\n\\n- Doğru yanıt \"isomerism\" kelimesiyle daha spesifik bir kavram tanımlıyor.\\n- Doğru yanıt farklı moleküllerin yapısı ve bu yapıların fiziksel özelliklere nasıl etkilediğini daha ayrıntılı açıklıyor.'\n"
     ]
    },
    {
     "name": "stderr",
     "output_type": "stream",
     "text": [
      " 30%|██▉       | 26/88 [01:00<01:57,  1.89s/it]"
     ]
    },
    {
     "name": "stdout",
     "output_type": "stream",
     "text": [
      "Hata: could not convert string to float: '12\\n\\nBu cevaplar arasında kısmi benzerlik var, ancak doğru cevap daha kapsamlı ve teknik detaylara dayalıdır. Öğrencinin cevabı genel bir fikir sunarken, doğru cevap ise belirli kimyasal kavramları (izomerizm) ve nasıl etkilerini açıklar. Bu nedenle, semantik benzerlik puanı orta seviyede olabilir.'\n"
     ]
    },
    {
     "name": "stderr",
     "output_type": "stream",
     "text": [
      " 32%|███▏      | 28/88 [01:02<01:25,  1.43s/it]"
     ]
    },
    {
     "name": "stdout",
     "output_type": "stream",
     "text": [
      "Hata: could not convert string to float: '12\\n\\nİki cevap arasındaki benzerlik şu anaçta az: Doğru cevap, daha kapsamlı ve detaylı bir açıklama yaparken, öğrenci cevabı ise kısa ve genel kavramsal bilgi sunmaktadır. Öğrencinin cevabının eksikliği ve doğru cevapın verilen bilginin derinliğini dikkate alındığında, bu puan verilmiştir.'\n"
     ]
    },
    {
     "name": "stderr",
     "output_type": "stream",
     "text": [
      " 35%|███▌      | 31/88 [01:05<01:11,  1.25s/it]"
     ]
    },
    {
     "name": "stdout",
     "output_type": "stream",
     "text": [
      "Hata: could not convert string to float: '10\\n\\nİki cevap arasındaki benzerlik derecesi düşük olup da tam olarak aynı konuda fakat anlamlı bir şekilde farklı ifade edilmiştir. Öğrencinin cevabı doğru cevabın temel ideyalarını içeriyor ancak daha özne ve detaylı değildir. Doğru cevap ise isomerizmin ne olduğu, nedenleri ve etkilerini daha kapsamlı bir şekilde açıklamaktadır.'\n"
     ]
    },
    {
     "name": "stderr",
     "output_type": "stream",
     "text": [
      " 36%|███▋      | 32/88 [01:10<02:18,  2.47s/it]"
     ]
    },
    {
     "name": "stdout",
     "output_type": "stream",
     "text": [
      "Hata: could not convert string to float: '12\\n\\nBu cevaplar arasındaki benzerlik şu noktaları içeriyor:\\n\\n- Her iki yanıt da moleküler yapının farklı olması nedeniyle fiziksel özelliklerin değiş Yardım ettiğini belirtiyor.\\n- \"İsomerizm\" kavramını kullanıyor, bu doğru cevapta de geçmektedir.\\n- Farklı moleküller arası güçler ve elektrokütleme gibi fiziksel özelliklere atıfta bulunuyor.\\n\\nFarklar ise:\\n\\n- Öğrenci cevabı daha kısa ve kesin olmayan bir ifade kullanıyor (\"can oxcid\" yerine \"oksitlenebilme\").\\n- Doğru cevap daha kapsamlı ve teknik terimleri içeriyor (isomerizm, atom düzeni, uzayelasten置等)。\\n- 正确答案提到了同种化学组成的化合物由于分子结构的不同而存在，这与学生答案中的意思有所区别。\\n\\n综上所述，两者之间有12的相似度。'\n"
     ]
    },
    {
     "name": "stderr",
     "output_type": "stream",
     "text": [
      " 38%|███▊      | 33/88 [01:14<02:39,  2.91s/it]"
     ]
    },
    {
     "name": "stdout",
     "output_type": "stream",
     "text": [
      "Hata: could not convert string to float: '14\\n\\nBu cevaplar benzerliklerini ve farklılıklarını ele alıyor:\\n\\nBenzerlikler:\\n- Her iki yanıt da aynı kimyasal bileşimi olan moleküllerin fiziksel özelliklerinin farklı olabileceğini belirtiyor.\\n- Atomların birbirinden farklı bağlamaları veya yapıları neden olabileceği konusunda bahsediyor.\\n\\nFarklılıklar:\\n- Doğru cevap daha spesifik ve detaylı, isomerizmayı ve moleküllerin yapısının çeşitli yönlerini (yatay diziliş, uzayelastik yapı, bağlamalar) açıklıyor.\\n- Öğrenci cevabı ise sadece allotropi örneğini veriyor ve daha genel bir açıklama sunuyor.'\n"
     ]
    },
    {
     "name": "stderr",
     "output_type": "stream",
     "text": [
      " 39%|███▊      | 34/88 [01:17<02:39,  2.96s/it]"
     ]
    },
    {
     "name": "stdout",
     "output_type": "stream",
     "text": [
      "Hata: could not convert string to float: '12\\n\\nBu cevaplar arasındaki benzerlikler şunlardır:\\n- Her iki yanıt da moleküllerin yapıları farklı olabileceğini belirtiyor.\\n- Fiziksel özelliklerin bu farklı yapılardan kaynaklandığını vurguluyor.\\n- Atom düzeni ve uzay konforu gibi terimleri içeriyor.\\n\\nFarklılıklar ise:\\n- Doğru cevap daha geniş bir kavram olan izomerizmi kullanıyor.\\n- Öğrenci cevabı daha özgün ve kısa formatta, doğru cevap daha uzun ve detaylı.'\n"
     ]
    },
    {
     "name": "stderr",
     "output_type": "stream",
     "text": [
      " 41%|████      | 36/88 [01:22<02:05,  2.41s/it]"
     ]
    },
    {
     "name": "stdout",
     "output_type": "stream",
     "text": [
      "Hata: could not convert string to float: '12\\n\\nBu cevaplar arasındaki benzerlik şu noktaları içeriyor:\\n\\n- İkisi de farklı fiziksel özelliklere sahip aynı elementin veya moleküllerin farklı kristal yapılarını anlatıyor.\\n- Fiziksel özellikleri farklı olan aynı maddelerin var olduğunu belirtiyor (allatropizm örneği ve isomerizm kavramı).\\n- Kristal yapının farklı olması neden olduğu fiziksel özelliklerin değişimi konusunda bahsediyor.\\n\\nAncak, doğru cevap daha spesifik ve kesin bir terim kullanarak (isomerizm) ve daha geniş bir perspektif sunuyor. Öğrenci cevabında ise bu kavramın tam olarak nasıl tanımlanması gerektiği belirsiz kalıyor. Bu nedenle, puan 12 olarak değerlendirilebilir.'\n"
     ]
    },
    {
     "name": "stderr",
     "output_type": "stream",
     "text": [
      " 43%|████▎     | 38/88 [01:24<01:19,  1.59s/it]"
     ]
    },
    {
     "name": "stdout",
     "output_type": "stream",
     "text": [
      "Hata: could not convert string to float: '10\\n\\nİki cevap arasındaki benzerlik şu anahtar kelimeleri içeriyor: \"differences\", \"different physical properties\", ve \"differences in their molecular structure\". Ancak doğru cevap daha spesifik ve detaylı bilgilerle dolu, bu nedenle puan 10 olarak değerlendirilmiştir.'\n"
     ]
    },
    {
     "name": "stderr",
     "output_type": "stream",
     "text": [
      " 45%|████▌     | 40/88 [01:26<01:05,  1.36s/it]"
     ]
    },
    {
     "name": "stdout",
     "output_type": "stream",
     "text": [
      "Hata: could not convert string to float: '12\\n\\nBu cevaplar arasında benzerlik var çünkü hem öğrencinin cevabı hem de doğru cevap farklı kimyasal bileşimi olan malzemelerin fiziksel özelliklerindeki farklılıkların nedeni hakkında bahsediyor. Ancak, doğru cevap daha spesifik ve kesin bir açıklama yaparken, öğrenci cevabının \"isomerizm\" kavramını kullanmadığı ve bazı önemli terimleri eksik olduğu için puanı daha düşük tutulmuştur.'\n"
     ]
    },
    {
     "name": "stderr",
     "output_type": "stream",
     "text": [
      " 47%|████▋     | 41/88 [01:29<01:22,  1.76s/it]"
     ]
    },
    {
     "name": "stdout",
     "output_type": "stream",
     "text": [
      "Hata: could not convert string to float: '10\\n\\nİki cevap arasında benzerlikler var: ikisi de allotropizmi anlatırken ve aynı elementin farklı moleküler yapılar nedeniyle farklı fiziksel özelliklere sahip olabileceğini belirtiyor. Ancak doğru cevap daha geniş bir tanım sağlıyor ve isomerizmin de ötesine geçip moleküler yapının nasıl etkilendiği konusuna değiniliyor. Öğrenci cevabında ise bu detaylar eksik kalıyor.'\n"
     ]
    },
    {
     "name": "stderr",
     "output_type": "stream",
     "text": [
      " 49%|████▉     | 43/88 [01:32<01:03,  1.40s/it]"
     ]
    },
    {
     "name": "stdout",
     "output_type": "stream",
     "text": [
      "Hata: could not convert string to float: '12\\n\\nBu cevaplar arasında benzerlik var çünkü her ikisi de moleküllerin yapısı ve kimyasal yapı arasındaki farklılıkların etkilerini açıklıyor. Ancak doğru cevap daha kapsamlı ve teknik terimler kullanarak daha detaylı bir açıklama sunuyor. Öğrenci cevabının ise temel kavramları vurguluyor ancak daha spesifik örnekler veya terimler verilmiyor.'\n"
     ]
    },
    {
     "name": "stderr",
     "output_type": "stream",
     "text": [
      " 51%|█████     | 45/88 [01:35<00:59,  1.38s/it]"
     ]
    },
    {
     "name": "stdout",
     "output_type": "stream",
     "text": [
      "Hata: could not convert string to float: '14\\n\\nCevaplar arasında benzerlik var çünkü hem öğrenci cevabı hem de doğru cevap farklı kimyasal bileşenlerin aynı olmasına rağmen fiziksel özelliklerinin farklı olması konusunda anlaşılmayı gösteriyor. Ancak, doğru cevap daha detaylı ve kesin bir açıklama yaparken, öğrenci cevabının \"allotrops\" kelimesi yanlış ve \"farklı oranlarda birleşebiliyorlar\" ifadesi net bir açıklamaya ulaşmaya çalıştığı belirtilmiyor. Bu nedenle puan 14 olarak değerlendirilebilir.'\n"
     ]
    },
    {
     "name": "stderr",
     "output_type": "stream",
     "text": [
      " 52%|█████▏    | 46/88 [01:37<01:09,  1.65s/it]"
     ]
    },
    {
     "name": "stdout",
     "output_type": "stream",
     "text": [
      "Hata: could not convert string to float: '10\\n\\nİki cevap arasında benzerlik var çünkü hem öğrenci cevabı hem de doğru cevap kimyasal bileşimi aynı olan malzemelerin fiziksel özelliklerinin farklı olabileceğini belirtiyor. Ancak, doğru cevap daha spesifik ve detaylı bilgileri içerdiği için puan daha düşük. Öğrenci cevabının eksikleri ve yanlış yerleri de göz önünde bulunduruldu.'\n"
     ]
    },
    {
     "name": "stderr",
     "output_type": "stream",
     "text": [
      " 53%|█████▎    | 47/88 [01:40<01:18,  1.90s/it]"
     ]
    },
    {
     "name": "stdout",
     "output_type": "stream",
     "text": [
      "Hata: could not convert string to float: '12\\n\\nİki cevap arasında benzerlik var çünkü hem öğrenci cevabı hem de doğru cevap isomerişmi ile ilgili bilgi veriyor. Ancak doğru cevap daha ayrıntılı ve teknik bir açıklama sunuyor, öğrencinin cevabı ise \"allotrope\" kelimesini iki kez tekrarlıyor ve tam olarak doğru cevaba ulaşmamaktadır. Bu nedenle puan 12 olarak değerlendirilebilir.'\n"
     ]
    },
    {
     "name": "stderr",
     "output_type": "stream",
     "text": [
      " 55%|█████▍    | 48/88 [01:43<01:30,  2.26s/it]"
     ]
    },
    {
     "name": "stdout",
     "output_type": "stream",
     "text": [
      "Hata: could not convert string to float: '4\\n\\nBu cevaplar arasındaki benzerlik puanı düşük, çünkü doğru cevap eleştirel bir yapıya ve kavramsal bir açıklama sunuyor, ancak öğrenci cevabı konuyla ilgili olarak yanlış bir yola sapmış durumda. Öğrencinin cevabı, izotoplar hakkında bilgi verirken, soruda istenen cevap isomerizm veya moleküler yapının farklılıkları ve bu nedenle ortaya çıkan fiziksel özellikler değişimi üzerine duruyor. Bu nedenle benzerlik puanı düşük bir değere düşüyor.'\n"
     ]
    },
    {
     "name": "stderr",
     "output_type": "stream",
     "text": [
      " 56%|█████▌    | 49/88 [01:46<01:35,  2.44s/it]"
     ]
    },
    {
     "name": "stdout",
     "output_type": "stream",
     "text": [
      "Hata: could not convert string to float: '14\\n\\nBu cevaplar, temel olarak aynı fikirleri ifade ediyor: farklı fiziksel özelliklere sahip ayni kimyasal bileşimi olan bileşenlerin varlığı, ancak detayları ve terimler farklılık gösteriyor. Öğrenci cevabında \"allotropism\" kelimesi yanlış kullanılmış ve \"isomerism\" kelimesi doğru bir şekilde yerleştirilmedi. Ancak genel fikir ve anlamlı parçalar benzerlik içinde bulunuyor.'\n"
     ]
    },
    {
     "name": "stderr",
     "output_type": "stream",
     "text": [
      " 58%|█████▊    | 51/88 [01:49<01:09,  1.87s/it]"
     ]
    },
    {
     "name": "stdout",
     "output_type": "stream",
     "text": [
      "Hata: could not convert string to float: '12\\n\\nBu cevaplar benzerliklerini gösteriyor: \\n- Her iki yanıt da moleküllerin yapı farklılıklarının neden olduğu fiziksel özelliklerin değişimi konusunda bahsediyor.\\n- \"allotrop\" kelimesi ve \"isomerism\" terimi benzer kavramları ifade ediyor.\\n\\nAncak, doğru cevap daha detaylı ve uzun bir açıklama içerdiği için puan daha düşük. Öğrenci cevabının kısa ve temel bir bilgi sunması nedeniyle puan 12 olarak değerlendirildi.'\n"
     ]
    },
    {
     "name": "stderr",
     "output_type": "stream",
     "text": [
      " 60%|██████    | 53/88 [01:51<00:50,  1.44s/it]"
     ]
    },
    {
     "name": "stdout",
     "output_type": "stream",
     "text": [
      "Hata: could not convert string to float: '14\\n\\nİki cevap arasında benzerlik var çünkü her ikisi de kimyasal bileşimi aynı olmasına rağmen fiziksel özellikler farklı olan moleküller hakkında konuşuyorlar. Ancak doğru cevap daha detaylı ve kesin bir açıklama sunuyor, bu yüzden puan daha düşük.'\n"
     ]
    },
    {
     "name": "stderr",
     "output_type": "stream",
     "text": [
      " 61%|██████▏   | 54/88 [01:53<01:03,  1.87s/it]"
     ]
    },
    {
     "name": "stdout",
     "output_type": "stream",
     "text": [
      "Hata: could not convert string to float: '12\\n\\nİki cevap arasındaki benzerlik şu noktaları içeriyor:\\n\\n1. Atomların yapısı ve düzeni farklılık yaratır.\\n2. Farklı fiziksel özelliklere neden olur.\\n\\nFarklı noktalar ise:\\n\\n- Doğru cevap, moleküllerin yapısal farklılıkların fiziksel özelliklere ne şekilde etkilediğini daha ayrıntılı açıkladı.\\n- Öğrenci cevabı, bu farklılıkları tam olarak nasıl ifade edemedi ve isomerizmayı belirtmedi.'\n"
     ]
    },
    {
     "name": "stderr",
     "output_type": "stream",
     "text": [
      " 62%|██████▎   | 55/88 [01:56<01:13,  2.22s/it]"
     ]
    },
    {
     "name": "stdout",
     "output_type": "stream",
     "text": [
      "Hata: could not convert string to float: '10\\n\\nİki cevap arasındaki benzerlik sadece genel konuyla ilgiliyken, doğru cevap daha spesifik ve detaylı bilgileri içerdiği için puanı 10 olarak belirledim. Öğrencinin cevabı kesinlikle yanlış ve tamamen yanlış bir ifade sunuyor. Doğru cevap ise kimyasal bileşimi aynı olan moleküllerin, moleküler yapısı farklı olmasından dolayı fiziksel özelliklerini de değişime uğratabilecek çeşitli faktörleri açıklıyor.'\n"
     ]
    },
    {
     "name": "stderr",
     "output_type": "stream",
     "text": [
      " 65%|██████▍   | 57/88 [02:00<00:57,  1.86s/it]"
     ]
    },
    {
     "name": "stdout",
     "output_type": "stream",
     "text": [
      "Hata: could not convert string to float: '12\\n\\nBu cevaplar arasındaki benzerlik şu noktaları içeriyor:\\n\\n- Her iki yanıt da moleküllerin yapı farklılıklarının fiziksel özelliklere etkisi üzerinde duruyor.\\n- \"Allotrop\" terimi kullanılıyor, ancak doğru cevapta daha spesifik olarak \"isomerizm\" terimi kullanılarak açıklama genişletildi.\\n- Her iki yanıt da moleküllerin yapısının fiziksel özelliklere nasıl etkilediğine değindi.\\n\\nAncak, doğru cevap daha kapsamlı ve teknik terimler kullanarak açıklama yapmış olmasından dolayı puan daha düşüktür.'\n"
     ]
    },
    {
     "name": "stderr",
     "output_type": "stream",
     "text": [
      " 66%|██████▌   | 58/88 [02:03<01:08,  2.28s/it]"
     ]
    },
    {
     "name": "stdout",
     "output_type": "stream",
     "text": [
      "Hata: could not convert string to float: '12\\n\\nBu cevaplar temel olarak aynı konuyu ele alıyor: farklı moleküler yapılar nedeniyle aynı kimyasal bileşimi olmasına rağmen farklı fiziksel özelliklere sahip olan bileşenlerin varlığı. Ancak doğru cevap daha detaylı ve uzun bir açıklama yapmış, örneğin isomerizma da içermektedir. Öğrenci cevabında ise sadece karbon elementinin sıralamasına dayalı olarak diamond ve grafit örnekleri verilmiştir. Bu nedenle benzerlik derecesi orta seviyede olabilir.'\n"
     ]
    },
    {
     "name": "stderr",
     "output_type": "stream",
     "text": [
      " 67%|██████▋   | 59/88 [02:06<01:13,  2.54s/it]"
     ]
    },
    {
     "name": "stdout",
     "output_type": "stream",
     "text": [
      "Hata: could not convert string to float: '14\\n\\nBu cevaplar arasında temel bir benzerlik var çünkü her ikisi de izomeri ve kimyasal bileşimi aynı olmasına rağmen fiziksel özellikler farklı olan moleküller hakkında konuşuyor. Ancak doğru cevap daha detaylı ve akıcıdır, özellikle moleküllerin yapısı ve bu yapıların fiziksel özelliklere nasıl etki yaptığını açıklıyor. Öğrenci cevabında ise bazı noktalar eksik veya belirsiz kalmıştır (örneğin, \"energy are also is a factor in isomerism\" ifadesi).'\n"
     ]
    },
    {
     "name": "stderr",
     "output_type": "stream",
     "text": [
      " 69%|██████▉   | 61/88 [02:11<01:01,  2.28s/it]"
     ]
    },
    {
     "name": "stdout",
     "output_type": "stream",
     "text": [
      "Hata: could not convert string to float: '14\\n\\nBu cevaplar arasındaki benzerlik şu noktaları içeriyor:\\n\\n1. Her iki yanıt da moleküsel yapıların farklılığı nedeniyle fiziğe farklı özelliklere sahip olan maddelerin varlığını belirtiyor.\\n2. Her ikisi de moleküsel yapının etkisini vurguluyor.\\n\\nFarklar ise şu şekilde:\\n\\n1. Doğru cevap daha detaylı ve uzun, çeşitli türlerde isomerizmin örneği verilerek açıklama yapılmış.\\n2. Öğrenci cevabı kısa ve genel bir ifade kullanarak \"allotropes\" terimi ile bu fikri aktarmaya çalışmış ancak daha spesifik bilgiler eksik.\\n\\nBu nedenle, puan 14 olarak değerlendirilebilir; çünkü temel fikir doğru ama detaylar eksik ve genel bir açıklama yapılmış.'\n"
     ]
    },
    {
     "name": "stderr",
     "output_type": "stream",
     "text": [
      " 73%|███████▎  | 64/88 [02:13<00:29,  1.23s/it]"
     ]
    },
    {
     "name": "stdout",
     "output_type": "stream",
     "text": [
      "Hata: could not convert string to float: '12\\n\\nBu cevaplar arasında temel kavramsal benzerlik var, ancak doğru cevap daha spesifik ve teknik terimler kullanarak daha net bir açıklama yapar. Öğrenci cevabı genel bir şekilde doğru fakat daha detaylı bilgi eksikliği neden puanı düşürmüştür.'\n"
     ]
    },
    {
     "name": "stderr",
     "output_type": "stream",
     "text": [
      " 75%|███████▌  | 66/88 [02:16<00:27,  1.26s/it]"
     ]
    },
    {
     "name": "stdout",
     "output_type": "stream",
     "text": [
      "Hata: could not convert string to float: '14\\n\\nBu cevaplar, genel konu ve temaları benzer şekilde ele alıyor, ancak doğru cevap daha detaylı ve teknik terimleri kullanarak açıklama yapmış olmasına rağmen, biraz eksik kalıyor. Öğrenci cevabında elmas ve grafit örneği doğru fakat daha geniş bir perspektif verilmesi gerekiyordu.'\n"
     ]
    },
    {
     "name": "stderr",
     "output_type": "stream",
     "text": [
      " 76%|███████▌  | 67/88 [02:17<00:26,  1.25s/it]"
     ]
    },
    {
     "name": "stdout",
     "output_type": "stream",
     "text": [
      "Hata: could not convert string to float: '12\\n\\nİki cevap arasında benzerlik var çünkü hem öğrenci cevabı hem de doğru cevap moleküsel yapının farklı olması nedeniyle fiziksel özelliklerin değiş Yardım ettiyor mu?'\n"
     ]
    },
    {
     "name": "stderr",
     "output_type": "stream",
     "text": [
      " 78%|███████▊  | 69/88 [02:19<00:21,  1.14s/it]"
     ]
    },
    {
     "name": "stdout",
     "output_type": "stream",
     "text": [
      "Hata: could not convert string to float: '14\\n\\nİki cevap benzerlik gösteriyor, ancak doğru cevap daha spesifik ve kapsamlı bir açıklama sunuyor. Öğrenci cevabı \"allotropy\" kelimesini kullanıyor, ancak bu kelime doğru cevapta yer almamaktadır. Doğru cevap ise \"isomerism\" terimiyle ve daha detaylı bilgilerle genişletilmiş bir açıklama sunuyor.'\n"
     ]
    },
    {
     "name": "stderr",
     "output_type": "stream",
     "text": [
      " 81%|████████  | 71/88 [02:21<00:18,  1.09s/it]"
     ]
    },
    {
     "name": "stdout",
     "output_type": "stream",
     "text": [
      "Hata: could not convert string to float: '14\\n\\nBu cevaplar arasında benzerlikler var, ancak doğru cevap daha kapsamlı ve detaylı bilgiler içeriyor. Öğrenci cevabı, isomerizmayı tam olarak tanımlamadı ve fiziksel özelliklere etki eden faktörleri belirtmedi.'\n"
     ]
    },
    {
     "name": "stderr",
     "output_type": "stream",
     "text": [
      " 83%|████████▎ | 73/88 [02:24<00:17,  1.18s/it]"
     ]
    },
    {
     "name": "stdout",
     "output_type": "stream",
     "text": [
      "Hata: could not convert string to float: '12\\n\\nBu cevaplar arasındaki benzerlik şu noktalara öne çıkmaktadır:\\n- Her ikisi de farklı fiziksel özelliklere sahip olan ve aynı kimyasal bileşenin olabilecekleri konusunda bahsediyor.\\n- \"allatrop\" kelimesi doğru cevapta \"isomerism\" olarak değiştirilmiştir, ancak temel fikir benzerliği korunmuştur.\\n\\nAncak, doğru cevap daha detaylı ve uzun bir açıklama yapmaktadır. Bu nedenle puan daha düşük.'\n"
     ]
    },
    {
     "name": "stderr",
     "output_type": "stream",
     "text": [
      " 84%|████████▍ | 74/88 [02:28<00:27,  1.99s/it]"
     ]
    },
    {
     "name": "stdout",
     "output_type": "stream",
     "text": [
      "Hata: could not convert string to float: '10\\n\\nİki cevap arasındaki benzerlik şu noktaları içeriyor:\\n\\n1. Her iki yanıt da moleküllerin veya kristallerin farklı yapıları nedeniyle fiziksel özelliklerinin değiş Yardım ettiğini belirtiyor.\\n2. \"bonded\" kelimesi ve \"bonding patterns\" ifadesi benzer bir fikir sunuyor.\\n3. Her iki yanıt da moleküllerin veya kristallerin yapıları arasındaki farklılıkların fiziksel özelliklere etkisi üzerinde duruyor.\\n\\nAncak, doğru cevap daha geniş ve detaylı bilgi içerdiği için puan daha düşük. Öğrenci cevabında ise eksiklikler var ve tam olarak doğru cevaba ulaşmadı.'\n"
     ]
    },
    {
     "name": "stderr",
     "output_type": "stream",
     "text": [
      " 85%|████████▌ | 75/88 [02:30<00:24,  1.92s/it]"
     ]
    },
    {
     "name": "stdout",
     "output_type": "stream",
     "text": [
      "Hata: could not convert string to float: '12\\n\\nBu cevaplar arasında benzerlik var çünkü her iki yanıt da kimyasal bileşimi aynı olan moleküllerin fiziksel özelliklerinin farklı olabileceğini vurguluyor. Ancak doğru cevap daha ayrıntılı ve teknik bir açıklama sunuyor, bu yüzden puan daha düşük.'\n"
     ]
    },
    {
     "name": "stderr",
     "output_type": "stream",
     "text": [
      " 86%|████████▋ | 76/88 [02:32<00:23,  1.95s/it]"
     ]
    },
    {
     "name": "stdout",
     "output_type": "stream",
     "text": [
      "Hata: could not convert string to float: '10\\n\\nİki cevap arasında oldukça benzerlik var. Her ikisi de moleküllerin yapısal farklılıkların fiziksel özelliklere etkisi hakkında bahsediyor. Öğrenci cevabının eksikliği, doğru cevapta verilen kavramsal açıdan daha kapsamlı ve teknik bir açıklama içerdiği için puan 10 olarak değerlendirilmiştir.'\n"
     ]
    },
    {
     "name": "stderr",
     "output_type": "stream",
     "text": [
      " 88%|████████▊ | 77/88 [02:35<00:25,  2.30s/it]"
     ]
    },
    {
     "name": "stdout",
     "output_type": "stream",
     "text": [
      "Hata: could not convert string to float: '12\\n\\nİki cevap arasındaki benzerlik şu anahtar kelimeleri içeriyor: \"atoms order\", \"different physical properties\", ve \"molecular structure\". Ancak doğru cevap daha spesifik ve detaylı olup, \"isomerism\" terimi ve farklı yapı türleri (örneğin, atom düzeni, uzay konforu veya bağ modelleri) dahil etti. Öğrenci cevabı ise \"allotropism\" kelimesini kullanarak bir kısmını doğru belirtiyor ancak tamamen doğru cevapın detaylı açıklamasına ulaşmadı.'\n"
     ]
    },
    {
     "name": "stderr",
     "output_type": "stream",
     "text": [
      " 89%|████████▊ | 78/88 [02:39<00:29,  2.90s/it]"
     ]
    },
    {
     "name": "stdout",
     "output_type": "stream",
     "text": [
      "Hata: could not convert string to float: '12\\n\\nBu cevaplar arasındaki benzerlik şu noktaları içeriyor:\\n\\n1. İkisi de moleküllerin fiziksel özelliklerini etkileyebilecek farklı yapıları vurguluyor.\\n2. Her ikisinin de atomların düzeni veya bağlamalarının önemini belirtiyor.\\n\\nFarklılıklar ise şu şekilde:\\n\\n1. Öğrenci cevabı, bileşimi aynı olan ancak fiziksel özellikler farklı olan moleküller hakkında bilgi vermiyor.\\n2. Doğru cevap, bu tür molekülleri \"izomerizm\" olarak adlandırırken, öğrencinin cevabının bu konuda spesifik bir terim kullanmadığını belirtiyor.\\n\\nBu nedenle, benzerlikler ve farklılıklar göz önünde bulundurularak 12 puan verilmiştir.'\n"
     ]
    },
    {
     "name": "stderr",
     "output_type": "stream",
     "text": [
      " 91%|█████████ | 80/88 [02:44<00:19,  2.49s/it]"
     ]
    },
    {
     "name": "stdout",
     "output_type": "stream",
     "text": [
      "Hata: could not convert string to float: '12\\n\\nBu cevaplar arasındaki benzerlik şu noktaları içeriyor:\\n\\n1. Her iki yanıt da moleküllerin yapıları ve bu yapıların fiziksel özelliklere etkisi hakkında bahsediyor.\\n2. \"Polarity\" kelimeleri de ortak kullanılıyor.\\n3. Moleküllerin yapısı ve bunun fiziksel özelliklere nasıl etkilediği konusunda genel bir anlatım sunuluyor.\\n\\nFarklı noktalar ise:\\n\\n- Doğru cevap daha spesifik ve detaylı bilgiler içeriyor (izomerizm, atom düzeni, uzaysal yapılandırma, bağ modelleri).\\n- Öğrenci cevabı daha genel ve kısa kalmış, belirli terimler ve örnekler eksik.\\n- Doğru cevapın içeriği, öğrencinin cevabından daha kapsamlı ve akıcı.'\n"
     ]
    },
    {
     "name": "stderr",
     "output_type": "stream",
     "text": [
      " 92%|█████████▏| 81/88 [02:46<00:16,  2.36s/it]"
     ]
    },
    {
     "name": "stdout",
     "output_type": "stream",
     "text": [
      "Hata: could not convert string to float: '16\\n\\nBu iki cevap benzer bir konuyu ele alıyor ve genel olarak aynı fikirleri paylaşıyor: farklı fiziksel özelliklerin kimyasal bileşimi aynı olmasına rağmen moleküler yapının farklı olması nedeniyle ortaya çıkabileceğini belirtiyor. Ancak doğru cevap daha detaylı ve uzun bir açıklama sunuyor.'\n"
     ]
    },
    {
     "name": "stderr",
     "output_type": "stream",
     "text": [
      " 94%|█████████▍| 83/88 [02:49<00:08,  1.68s/it]"
     ]
    },
    {
     "name": "stdout",
     "output_type": "stream",
     "text": [
      "Hata: could not convert string to float: '12\\n\\nBu cevaplar arasında benzerlikler var, ancak doğru cevap daha spesifik ve kapsamlı bilgiler içeriyor. Öğrenci cevabı \"allotropism\" kelimesini kullanıyor, ancak isomerizm konusuna tam olarak değinmedi. Doğru cevap ise isomerizmanın tanımlarını ve nedenlerini daha ayrıntılı açıkladı.'\n"
     ]
    },
    {
     "name": "stderr",
     "output_type": "stream",
     "text": [
      " 97%|█████████▋| 85/88 [02:51<00:04,  1.51s/it]"
     ]
    },
    {
     "name": "stdout",
     "output_type": "stream",
     "text": [
      "Hata: could not convert string to float: '12\\n\\nÖğrenci cevabı, doğru cevaba tamamen yakındır ve temel fikirleri doğru bir şekilde ifade eder. Ancak, daha detaylı ve uzun formüle edilmiş doğru cevabın suntuunu ve bazı kilit terimleri (isomerism, atom arrangement, spatial configuration, bonding patterns) içermediği için puanı azaltım gereklidir.'\n"
     ]
    },
    {
     "name": "stderr",
     "output_type": "stream",
     "text": [
      " 98%|█████████▊| 86/88 [02:54<00:04,  2.01s/it]"
     ]
    },
    {
     "name": "stdout",
     "output_type": "stream",
     "text": [
      "Hata: could not convert string to float: '14\\n\\nBu cevaplar arasındaki benzerlik şu noktaları içeriyor:\\n\\n1. Her iki yanıt da moleküllerin yapısı farklı olabileceğini belirtiyor.\\n2. Farklı fiziksel özelliklere yol açan yapısal farklılıkların varlığını vurguluyor.\\n\\nFarklı noktalar ise:\\n\\n- Doğru cevap daha spesifik ve detaylı bilgileri içeriyor (izomerizm, atom düzeni, uzayelastik yapı, bağlamalar gibi).\\n- Öğrenci cevabı daha kısa ve genel bir açıklama sunuyor.'\n"
     ]
    },
    {
     "name": "stderr",
     "output_type": "stream",
     "text": [
      "100%|██████████| 88/88 [02:57<00:00,  2.01s/it]"
     ]
    },
    {
     "name": "stdout",
     "output_type": "stream",
     "text": [
      "Hata: could not convert string to float: '12\\n\\nBu cevaplar arasında benzerlikler var, ancak doğru cevap daha spesifik ve teknik terimleri kullanarak allotropi konusunu daha iyi açıklamaktadır. Öğrenci cevabı ise allotrope hakkında genel bir fikir veriyor, ancak doğru cevap isomerizmi ve moleküler yapının nasıl etkilendiğini daha ayrıntılı açıklıyor.'\n",
      "\n",
      "Rapor oluşturuldu: Öğrenci_Degerlendirme_Raporu.xlsx\n",
      "\n",
      "İlk 5 kayıt önizleme:\n",
      "    Student ID                                     Öğrenci Cevabı  \\\n",
      "0  20160807006  nuclears theory 3d structure cube added or rem...   \n",
      "1  20160807009  because of count of elements. mostly about car...   \n",
      "2  20170808017  allotrops such as diamond and graphit they hav...   \n",
      "3  20170808045  this name is izonom or isonome this caused fro...   \n",
      "4  20190808008  because of elements energy and pyhsical featur...   \n",
      "\n",
      "   Benzerlik Puanı                                        Doğru Cevap  \n",
      "0              4.0  compounds with the same chemical composition b...  \n",
      "1              4.0  compounds with the same chemical composition b...  \n",
      "2              0.0  compounds with the same chemical composition b...  \n",
      "3              0.0  compounds with the same chemical composition b...  \n",
      "4              0.0  compounds with the same chemical composition b...  \n"
     ]
    },
    {
     "name": "stderr",
     "output_type": "stream",
     "text": [
      "\n"
     ]
    }
   ],
   "source": [
    "import pandas as pd\n",
    "import ollama\n",
    "import re\n",
    "from tqdm import tqdm\n",
    "\n",
    "class AnswerEvaluator:\n",
    "    def __init__(self, model_name=\"qwen2.5\"):\n",
    "        self.model = model_name\n",
    "        self.system_prompt = \"\"\"\n",
    "        İki cevap arasındaki semantik benzerliği 0-20 arası puanla.\n",
    "        Açıklama, yorum veya ek metin EKLEMEYİN.\n",
    "        Örnek geçerli çıktı: 16\n",
    "        Örnek geçersiz çıktı: 16 puan\n",
    "        \"\"\"\n",
    "        \n",
    "    def load_data(self, excel_path: str):\n",
    "        \"\"\"Excel verisini yükler ve temizler\"\"\"\n",
    "        try:\n",
    "            df = pd.read_excel(excel_path)\n",
    "            df = df[['Student ID', 'student_answers', 'Hoca Cevabı']]\n",
    "            df['student_answers'] = df['student_answers'].apply(self.clean_text)\n",
    "            df['Hoca Cevabı'] = df['Hoca Cevabı'].apply(self.clean_text)\n",
    "            return df.dropna()\n",
    "        except Exception as e:\n",
    "            print(f\"Hata: {str(e)}\")\n",
    "            return pd.DataFrame()\n",
    "\n",
    "    def clean_text(self, text: str) -> str:\n",
    "        \"\"\"Metni normalleştirme\"\"\"\n",
    "        text = re.sub(r'\\s+', ' ', str(text)).lower().strip()\n",
    "        return re.sub(r'[^\\w\\s.,!?]', '', text)\n",
    "\n",
    "    def calculate_similarity(self, student_answer: str, correct_answer: str) -> float:\n",
    "        \"\"\"İki cevap arasındaki benzerlik puanını hesaplar\"\"\"\n",
    "        try:\n",
    "            response = ollama.generate(\n",
    "                model=self.model,\n",
    "                prompt=f\"Öğrenci Cevabı: {student_answer}\\nDoğru Cevap: {correct_answer}\",\n",
    "                system=self.system_prompt,\n",
    "                options={\"temperature\": 0.0, \"max_tokens\": 50}\n",
    "            )\n",
    "            return float(response['response'].strip())\n",
    "        except Exception as e:\n",
    "            print(f\"Hata: {str(e)}\")\n",
    "            return 0.0\n",
    "\n",
    "    def evaluate_answers(self, excel_path: str, output_file: str = \"degerlendirme_raporu.xlsx\"):\n",
    "        \"\"\"Ana değerlendirme fonksiyonu\"\"\"\n",
    "        df = self.load_data(excel_path)\n",
    "        if df.empty:\n",
    "            return\n",
    "\n",
    "        results = []\n",
    "        for _, row in tqdm(df.iterrows(), total=len(df)):\n",
    "            similarity = self.calculate_similarity(\n",
    "                row['student_answers'],\n",
    "                row['Hoca Cevabı']\n",
    "            )\n",
    "            \n",
    "            results.append({\n",
    "                'Student ID': row['Student ID'],\n",
    "                'Öğrenci Cevabı': row['student_answers'],\n",
    "                'Benzerlik Puanı': similarity,\n",
    "                'Doğru Cevap': row['Hoca Cevabı']\n",
    "            })\n",
    "        \n",
    "        report_df = pd.DataFrame(results)\n",
    "        report_df.to_excel(output_file, index=False)\n",
    "        print(f\"\\nRapor oluşturuldu: {output_file}\")\n",
    "        return report_df\n",
    "\n",
    "if __name__ == \"__main__\":\n",
    "    evaluator = AnswerEvaluator(model_name=\"qwen2.5\")\n",
    "    \n",
    "    # Excel dosyasını belirtin\n",
    "    excel_path = \"Son_Excel.xlsx\"\n",
    "    output_file = \"Öğrenci_Degerlendirme_Raporu.xlsx\"\n",
    "    \n",
    "    # Değerlendirmeyi başlat\n",
    "    print(\"Değerlendirme başlıyor...\")\n",
    "    report = evaluator.evaluate_answers(excel_path, output_file)\n",
    "    \n",
    "    if report is not None:\n",
    "        print(\"\\nİlk 5 kayıt önizleme:\")\n",
    "        print(report.head())"
   ]
  }
 ],
 "metadata": {
  "kernelspec": {
   "display_name": "Python 3",
   "language": "python",
   "name": "python3"
  },
  "language_info": {
   "codemirror_mode": {
    "name": "ipython",
    "version": 3
   },
   "file_extension": ".py",
   "mimetype": "text/x-python",
   "name": "python",
   "nbconvert_exporter": "python",
   "pygments_lexer": "ipython3",
   "version": "3.12.8"
  }
 },
 "nbformat": 4,
 "nbformat_minor": 2
}
