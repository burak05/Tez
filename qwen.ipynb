{
 "cells": [
  {
   "cell_type": "code",
   "execution_count": 14,
   "metadata": {},
   "outputs": [
    {
     "name": "stdout",
     "output_type": "stream",
     "text": [
      "Değerlendirme başlıyor...\n"
     ]
    },
    {
     "name": "stderr",
     "output_type": "stream",
     "text": [
      "100%|██████████| 88/88 [00:10<00:00,  8.45it/s]"
     ]
    },
    {
     "name": "stdout",
     "output_type": "stream",
     "text": [
      "\n",
      "Rapor oluşturuldu: Öğrenci_Degerlendirme_Raporu.xlsx\n",
      "\n",
      "İlk 5 kayıt önizleme:\n",
      "    Student ID                                     Öğrenci Cevabı  \\\n",
      "0  20160807006  nuclears theory 3d structure cube added or rem...   \n",
      "1  20160807009  because of count of elements. mostly about car...   \n",
      "2  20170808017  allotrops such as diamond and graphit they hav...   \n",
      "3  20170808045  this name is izonom or isonome this caused fro...   \n",
      "4  20190808008  because of elements energy and pyhsical featur...   \n",
      "\n",
      "   Benzerlik Puanı                                        Doğru Cevap  \n",
      "0             10.0  compounds with the same chemical composition b...  \n",
      "1             10.0  compounds with the same chemical composition b...  \n",
      "2             14.0  compounds with the same chemical composition b...  \n",
      "3              8.0  compounds with the same chemical composition b...  \n",
      "4             12.0  compounds with the same chemical composition b...  \n"
     ]
    },
    {
     "name": "stderr",
     "output_type": "stream",
     "text": [
      "\n"
     ]
    }
   ],
   "source": [
    "import pandas as pd\n",
    "import ollama\n",
    "import re\n",
    "from tqdm import tqdm\n",
    "\n",
    "class AnswerEvaluator:\n",
    "    def __init__(self, model_name=\"mistral\"):\n",
    "        self.model = model_name\n",
    "        self.system_prompt = \"\"\"\n",
    "        İki cevap arasındaki semantik benzerliği 0-20 arası puanla.\n",
    "        Açıklama, yorum veya ek metin EKLEMEYİN. Sadece puanı yazın.\n",
    "        Örnek geçerli çıktı: 16\n",
    "        Örnek geçersiz çıktı: 16 puan\n",
    "        \"\"\"\n",
    "        \n",
    "    def load_data(self, excel_path: str):\n",
    "        \"\"\"Excel verisini yükler ve temizler\"\"\"\n",
    "        try:\n",
    "            df = pd.read_excel(excel_path)\n",
    "            df = df[['Student ID', 'student_answers', 'Hoca Cevabı']]\n",
    "            df['student_answers'] = df['student_answers'].apply(self.clean_text)\n",
    "            df['Hoca Cevabı'] = df['Hoca Cevabı'].apply(self.clean_text)\n",
    "            return df.dropna()\n",
    "        except Exception as e:\n",
    "            print(f\"Hata: {str(e)}\")\n",
    "            return pd.DataFrame()\n",
    "\n",
    "    def clean_text(self, text: str) -> str:\n",
    "        \"\"\"Metni normalleştirme\"\"\"\n",
    "        text = re.sub(r'\\s+', ' ', str(text)).lower().strip()\n",
    "        return re.sub(r'[^\\w\\s.,!?]', '', text)\n",
    "\n",
    "    def calculate_similarity(self, student_answer: str, correct_answer: str) -> float:\n",
    "        \"\"\"İki cevap arasındaki benzerlik puanını hesaplar\"\"\"\n",
    "        try:\n",
    "            response = ollama.generate(\n",
    "                model=self.model,\n",
    "                prompt=f\"Öğrenci Cevabı: {student_answer}\\nDoğru Cevap: {correct_answer}\",\n",
    "                system=self.system_prompt,\n",
    "                options={\"temperature\": 0.0, \"max_tokens\": 50}\n",
    "            )\n",
    "            return float(response['response'].strip())\n",
    "        except Exception as e:\n",
    "            print(f\"Hata: {str(e)}\")\n",
    "            return 0.0\n",
    "\n",
    "    def evaluate_answers(self, excel_path: str, output_file: str = \"degerlendirme_raporu.xlsx\"):\n",
    "        \"\"\"Ana değerlendirme fonksiyonu\"\"\"\n",
    "        df = self.load_data(excel_path)\n",
    "        if df.empty:\n",
    "            return\n",
    "\n",
    "        results = []\n",
    "        for _, row in tqdm(df.iterrows(), total=len(df)):\n",
    "            similarity = self.calculate_similarity(\n",
    "                row['student_answers'],\n",
    "                row['Hoca Cevabı']\n",
    "            )\n",
    "            \n",
    "            results.append({\n",
    "                'Student ID': row['Student ID'],\n",
    "                'Öğrenci Cevabı': row['student_answers'],\n",
    "                'Benzerlik Puanı': similarity,\n",
    "                'Doğru Cevap': row['Hoca Cevabı']\n",
    "            })\n",
    "        \n",
    "        report_df = pd.DataFrame(results)\n",
    "        report_df.to_excel(output_file, index=False)\n",
    "        print(f\"\\nRapor oluşturuldu: {output_file}\")\n",
    "        return report_df\n",
    "\n",
    "if __name__ == \"__main__\":\n",
    "    evaluator = AnswerEvaluator(model_name=\"mistral\")\n",
    "    \n",
    "    # Excel dosyasını belirtin\n",
    "    excel_path = \"Son_Excel.xlsx\"\n",
    "    output_file = \"Öğrenci_Degerlendirme_Raporu.xlsx\"\n",
    "    \n",
    "    # Değerlendirmeyi başlat\n",
    "    print(\"Değerlendirme başlıyor...\")\n",
    "    report = evaluator.evaluate_answers(excel_path, output_file)\n",
    "    \n",
    "    if report is not None:\n",
    "        print(\"\\nİlk 5 kayıt önizleme:\")\n",
    "        print(report.head())"
   ]
  }
 ],
 "metadata": {
  "kernelspec": {
   "display_name": "Python 3",
   "language": "python",
   "name": "python3"
  },
  "language_info": {
   "codemirror_mode": {
    "name": "ipython",
    "version": 3
   },
   "file_extension": ".py",
   "mimetype": "text/x-python",
   "name": "python",
   "nbconvert_exporter": "python",
   "pygments_lexer": "ipython3",
   "version": "3.12.8"
  }
 },
 "nbformat": 4,
 "nbformat_minor": 2
}
