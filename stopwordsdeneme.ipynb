{
 "cells": [
  {
   "cell_type": "code",
   "execution_count": 1,
   "metadata": {},
   "outputs": [
    {
     "name": "stderr",
     "output_type": "stream",
     "text": [
      "[nltk_data] Downloading package punkt to /Users/bkkas/nltk_data...\n",
      "[nltk_data]   Unzipping tokenizers/punkt.zip.\n",
      "[nltk_data] Downloading package stopwords to /Users/bkkas/nltk_data...\n",
      "[nltk_data]   Package stopwords is already up-to-date!\n",
      "/var/folders/x_/bs8y0fh51s3gd_v5rgkxdzf40000gn/T/ipykernel_13865/2105029002.py:26: FutureWarning: Setting the `book` attribute is not part of the public API, usage can give unexpected or corrupted results and will be removed in a future version\n",
      "  writer.book = workbook\n",
      "/var/folders/x_/bs8y0fh51s3gd_v5rgkxdzf40000gn/T/ipykernel_13865/2105029002.py:35: FutureWarning: save is not part of the public API, usage can give unexpected results and will be removed in a future version\n",
      "  writer.save()\n"
     ]
    }
   ],
   "source": [
    "import pandas as pd\n",
    "import openpyxl\n",
    "import nltk\n",
    "from nltk.corpus import stopwords\n",
    "from nltk.tokenize import word_tokenize\n",
    "\n",
    "# NLTK modüllerini yüklerim\n",
    "nltk.download('punkt')\n",
    "nltk.download('stopwords')\n",
    "\n",
    "# İngilizce stopwords listesini alırım\n",
    "stop_words = set(stopwords.words('english'))\n",
    "\n",
    "# Stopwords'ları kaldıran fonksiyon\n",
    "def remove_stopwords(text):\n",
    "    word_tokens = word_tokenize(text)\n",
    "    filtered_sentence = [word for word in word_tokens if not word.lower() in stop_words]\n",
    "    return ' '.join(filtered_sentence)\n",
    "\n",
    "# Excel dosyasını yüklerim\n",
    "file_path = 'NSexam.xlsx'\n",
    "workbook = openpyxl.load_workbook(file_path)\n",
    "\n",
    "# Yeni bir Excel writer oluştururum\n",
    "writer = pd.ExcelWriter('removed_stopwords.xlsx', engine='openpyxl')\n",
    "writer.book = workbook\n",
    "\n",
    "# Her bir sayfa için temizleme işlemi yaparım\n",
    "for sheet_name in ['Q1', 'Q2', 'Q3', 'Q4', 'Q5']:\n",
    "    df = pd.read_excel(file_path, sheet_name=sheet_name)\n",
    "    df.iloc[:, 2] = df.iloc[:, 2].apply(lambda x: remove_stopwords(x) if isinstance(x, str) else x)\n",
    "    df.to_excel(writer, sheet_name=sheet_name, index=False)\n",
    "\n",
    "# Excel dosyasını kaydederim\n",
    "writer.save()\n"
   ]
  }
 ],
 "metadata": {
  "kernelspec": {
   "display_name": "base",
   "language": "python",
   "name": "python3"
  },
  "language_info": {
   "codemirror_mode": {
    "name": "ipython",
    "version": 3
   },
   "file_extension": ".py",
   "mimetype": "text/x-python",
   "name": "python",
   "nbconvert_exporter": "python",
   "pygments_lexer": "ipython3",
   "version": "3.11.3"
  }
 },
 "nbformat": 4,
 "nbformat_minor": 2
}
